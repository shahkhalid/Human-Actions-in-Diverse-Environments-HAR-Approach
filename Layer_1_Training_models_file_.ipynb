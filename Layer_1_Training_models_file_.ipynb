{
  "cells": [
    {
      "cell_type": "code",
      "execution_count": null,
      "metadata": {
        "colab": {
          "base_uri": "https://localhost:8080/"
        },
        "id": "WKFmUhRgQnq3",
        "outputId": "b8524c4d-335e-4e52-eb55-59692a1d71ef"
      },
      "outputs": [
        {
          "output_type": "stream",
          "name": "stdout",
          "text": [
            "Mounted at /content/drive\n"
          ]
        }
      ],
      "source": [
        "from google.colab import drive\n",
        "drive.mount('/content/drive')"
      ]
    },
    {
      "cell_type": "code",
      "execution_count": null,
      "metadata": {
        "colab": {
          "base_uri": "https://localhost:8080/"
        },
        "id": "shk9k_ZfnXQi",
        "outputId": "8b2e8f5d-6995-490a-ceaf-b7c386bfecb8"
      },
      "outputs": [
        {
          "output_type": "stream",
          "name": "stdout",
          "text": [
            "Looking in indexes: https://pypi.org/simple, https://us-python.pkg.dev/colab-wheels/public/simple/\n",
            "Collecting gluoncv\n",
            "  Downloading gluoncv-0.10.5.post0-py2.py3-none-any.whl (1.3 MB)\n",
            "\u001b[K     |████████████████████████████████| 1.3 MB 33.6 MB/s \n",
            "\u001b[?25hRequirement already satisfied: scipy in /usr/local/lib/python3.7/dist-packages (from gluoncv) (1.7.3)\n",
            "Requirement already satisfied: matplotlib in /usr/local/lib/python3.7/dist-packages (from gluoncv) (3.2.2)\n",
            "Collecting autocfg\n",
            "  Downloading autocfg-0.0.8-py3-none-any.whl (13 kB)\n",
            "Requirement already satisfied: numpy in /usr/local/lib/python3.7/dist-packages (from gluoncv) (1.21.6)\n",
            "Requirement already satisfied: tqdm in /usr/local/lib/python3.7/dist-packages (from gluoncv) (4.64.0)\n",
            "Requirement already satisfied: pandas in /usr/local/lib/python3.7/dist-packages (from gluoncv) (1.3.5)\n",
            "Requirement already satisfied: Pillow in /usr/local/lib/python3.7/dist-packages (from gluoncv) (7.1.2)\n",
            "Collecting portalocker\n",
            "  Downloading portalocker-2.5.1-py2.py3-none-any.whl (15 kB)\n",
            "Collecting yacs\n",
            "  Downloading yacs-0.1.8-py3-none-any.whl (14 kB)\n",
            "Requirement already satisfied: requests in /usr/local/lib/python3.7/dist-packages (from gluoncv) (2.23.0)\n",
            "Requirement already satisfied: opencv-python in /usr/local/lib/python3.7/dist-packages (from gluoncv) (4.6.0.66)\n",
            "Requirement already satisfied: pyyaml in /usr/local/lib/python3.7/dist-packages (from gluoncv) (6.0)\n",
            "Requirement already satisfied: kiwisolver>=1.0.1 in /usr/local/lib/python3.7/dist-packages (from matplotlib->gluoncv) (1.4.4)\n",
            "Requirement already satisfied: cycler>=0.10 in /usr/local/lib/python3.7/dist-packages (from matplotlib->gluoncv) (0.11.0)\n",
            "Requirement already satisfied: python-dateutil>=2.1 in /usr/local/lib/python3.7/dist-packages (from matplotlib->gluoncv) (2.8.2)\n",
            "Requirement already satisfied: pyparsing!=2.0.4,!=2.1.2,!=2.1.6,>=2.0.1 in /usr/local/lib/python3.7/dist-packages (from matplotlib->gluoncv) (3.0.9)\n",
            "Requirement already satisfied: typing-extensions in /usr/local/lib/python3.7/dist-packages (from kiwisolver>=1.0.1->matplotlib->gluoncv) (4.1.1)\n",
            "Requirement already satisfied: six>=1.5 in /usr/local/lib/python3.7/dist-packages (from python-dateutil>=2.1->matplotlib->gluoncv) (1.15.0)\n",
            "Requirement already satisfied: pytz>=2017.3 in /usr/local/lib/python3.7/dist-packages (from pandas->gluoncv) (2022.2.1)\n",
            "Requirement already satisfied: urllib3!=1.25.0,!=1.25.1,<1.26,>=1.21.1 in /usr/local/lib/python3.7/dist-packages (from requests->gluoncv) (1.24.3)\n",
            "Requirement already satisfied: chardet<4,>=3.0.2 in /usr/local/lib/python3.7/dist-packages (from requests->gluoncv) (3.0.4)\n",
            "Requirement already satisfied: idna<3,>=2.5 in /usr/local/lib/python3.7/dist-packages (from requests->gluoncv) (2.10)\n",
            "Requirement already satisfied: certifi>=2017.4.17 in /usr/local/lib/python3.7/dist-packages (from requests->gluoncv) (2022.6.15)\n",
            "Installing collected packages: yacs, portalocker, autocfg, gluoncv\n",
            "Successfully installed autocfg-0.0.8 gluoncv-0.10.5.post0 portalocker-2.5.1 yacs-0.1.8\n"
          ]
        }
      ],
      "source": [
        "!pip install gluoncv"
      ]
    },
    {
      "cell_type": "code",
      "execution_count": null,
      "metadata": {
        "colab": {
          "base_uri": "https://localhost:8080/"
        },
        "id": "A-jZFiyKtqcP",
        "outputId": "431b58a4-2dca-4a78-9417-cd52f7f2ba17"
      },
      "outputs": [
        {
          "output_type": "stream",
          "name": "stdout",
          "text": [
            "Looking in indexes: https://pypi.org/simple, https://us-python.pkg.dev/colab-wheels/public/simple/\n",
            "Collecting mxnet-cu112\n",
            "  Downloading mxnet_cu112-1.9.1-py3-none-manylinux2014_x86_64.whl (499.4 MB)\n",
            "\u001b[K     |████████████████████████████████| 499.4 MB 1.7 kB/s \n",
            "\u001b[?25hRequirement already satisfied: numpy<2.0.0,>1.16.0 in /usr/local/lib/python3.7/dist-packages (from mxnet-cu112) (1.21.6)\n",
            "Requirement already satisfied: requests<3,>=2.20.0 in /usr/local/lib/python3.7/dist-packages (from mxnet-cu112) (2.23.0)\n",
            "Collecting graphviz<0.9.0,>=0.8.1\n",
            "  Downloading graphviz-0.8.4-py2.py3-none-any.whl (16 kB)\n",
            "Requirement already satisfied: chardet<4,>=3.0.2 in /usr/local/lib/python3.7/dist-packages (from requests<3,>=2.20.0->mxnet-cu112) (3.0.4)\n",
            "Requirement already satisfied: urllib3!=1.25.0,!=1.25.1,<1.26,>=1.21.1 in /usr/local/lib/python3.7/dist-packages (from requests<3,>=2.20.0->mxnet-cu112) (1.24.3)\n",
            "Requirement already satisfied: idna<3,>=2.5 in /usr/local/lib/python3.7/dist-packages (from requests<3,>=2.20.0->mxnet-cu112) (2.10)\n",
            "Requirement already satisfied: certifi>=2017.4.17 in /usr/local/lib/python3.7/dist-packages (from requests<3,>=2.20.0->mxnet-cu112) (2022.6.15)\n",
            "Installing collected packages: graphviz, mxnet-cu112\n",
            "  Attempting uninstall: graphviz\n",
            "    Found existing installation: graphviz 0.10.1\n",
            "    Uninstalling graphviz-0.10.1:\n",
            "      Successfully uninstalled graphviz-0.10.1\n",
            "Successfully installed graphviz-0.8.4 mxnet-cu112-1.9.1\n"
          ]
        }
      ],
      "source": [
        "!pip install mxnet-cu112"
      ]
    },
    {
      "cell_type": "code",
      "execution_count": null,
      "metadata": {
        "id": "IgXYjrQ2u4d5"
      },
      "outputs": [],
      "source": [
        "!export LD_LIBRARY_PATH=/usr/local/cuda-9.0/lib64 && sudo ldconfig"
      ]
    },
    {
      "cell_type": "code",
      "execution_count": null,
      "metadata": {
        "colab": {
          "base_uri": "https://localhost:8080/"
        },
        "id": "myYUo0cXvLkR",
        "outputId": "044e69c8-3124-4c1f-c666-a3357e896056"
      },
      "outputs": [
        {
          "output_type": "stream",
          "name": "stdout",
          "text": [
            "--2022-09-10 16:19:46--  https://developer.nvidia.com/compute/cuda/9.2/Prod/local_installers/cuda-repo-ubuntu1604-9-2-local_9.2.88-1_amd64\n",
            "Resolving developer.nvidia.com (developer.nvidia.com)... 152.199.39.144\n",
            "Connecting to developer.nvidia.com (developer.nvidia.com)|152.199.39.144|:443... connected.\n",
            "HTTP request sent, awaiting response... 301 Moved Permanently\n",
            "Location: https://developer.nvidia.com/compute/cuda/9.2/prod/local_installers/cuda-repo-ubuntu1604-9-2-local_9.2.88-1_amd64 [following]\n",
            "--2022-09-10 16:19:47--  https://developer.nvidia.com/compute/cuda/9.2/prod/local_installers/cuda-repo-ubuntu1604-9-2-local_9.2.88-1_amd64\n",
            "Reusing existing connection to developer.nvidia.com:443.\n",
            "HTTP request sent, awaiting response... 302 Found\n",
            "Location: https://developer.download.nvidia.com/compute/cuda/9.2/secure/Prod/local_installers/cuda-repo-ubuntu1604-9-2-local_9.2.88-1_amd64.deb?05Orwuc-9f1qItyr6oJwNVMna01I_BMhPUTkyk61or6363AY5hDTiTL34LeiFpqiXkQPtnjUKyjBHcmcqydxzBp6psd61s_hkRKBRWi2epWxcpC_vs0aLDYXgg5LrarRTpkUbzE49cDjCRu0OBumAJFm-nQAbsm2qzALGSTv5NJ4p3r2NQ6-hkXOxnmtbhnakI8zcNWPuEvmAj-rtAg [following]\n",
            "--2022-09-10 16:19:48--  https://developer.download.nvidia.com/compute/cuda/9.2/secure/Prod/local_installers/cuda-repo-ubuntu1604-9-2-local_9.2.88-1_amd64.deb?05Orwuc-9f1qItyr6oJwNVMna01I_BMhPUTkyk61or6363AY5hDTiTL34LeiFpqiXkQPtnjUKyjBHcmcqydxzBp6psd61s_hkRKBRWi2epWxcpC_vs0aLDYXgg5LrarRTpkUbzE49cDjCRu0OBumAJFm-nQAbsm2qzALGSTv5NJ4p3r2NQ6-hkXOxnmtbhnakI8zcNWPuEvmAj-rtAg\n",
            "Resolving developer.download.nvidia.com (developer.download.nvidia.com)... 152.199.39.144\n",
            "Connecting to developer.download.nvidia.com (developer.download.nvidia.com)|152.199.39.144|:443... connected.\n",
            "HTTP request sent, awaiting response... 200 OK\n",
            "Length: 1267391958 (1.2G) [application/x-deb]\n",
            "Saving to: ‘cuda-repo-ubuntu1604-9-2-local_9.2.88-1_amd64.deb’\n",
            "\n",
            "cuda-repo-ubuntu160 100%[===================>]   1.18G  42.6MB/s    in 29s     \n",
            "\n",
            "2022-09-10 16:20:17 (42.1 MB/s) - ‘cuda-repo-ubuntu1604-9-2-local_9.2.88-1_amd64.deb’ saved [1267391958/1267391958]\n",
            "\n",
            "Selecting previously unselected package cuda-repo-ubuntu1604-9-2-local.\n",
            "(Reading database ... 155685 files and directories currently installed.)\n",
            "Preparing to unpack cuda-repo-ubuntu1604-9-2-local_9.2.88-1_amd64.deb ...\n",
            "Unpacking cuda-repo-ubuntu1604-9-2-local (9.2.88-1) ...\n",
            "Setting up cuda-repo-ubuntu1604-9-2-local (9.2.88-1) ...\n",
            "OK\n",
            "Get:1 file:/var/cuda-repo-9-2-local  InRelease\n",
            "Ign:1 file:/var/cuda-repo-9-2-local  InRelease\n",
            "Get:2 file:/var/cuda-repo-9-2-local  Release [574 B]\n",
            "Get:2 file:/var/cuda-repo-9-2-local  Release [574 B]\n",
            "Get:3 file:/var/cuda-repo-9-2-local  Release.gpg [819 B]\n",
            "Get:3 file:/var/cuda-repo-9-2-local  Release.gpg [819 B]\n",
            "Get:4 https://cloud.r-project.org/bin/linux/ubuntu bionic-cran40/ InRelease [3,626 B]\n",
            "Get:5 file:/var/cuda-repo-9-2-local  Packages [18.7 kB]\n",
            "Get:6 https://cloud.r-project.org/bin/linux/ubuntu bionic-cran40/ Packages [91.7 kB]\n",
            "Ign:7 https://developer.download.nvidia.com/compute/machine-learning/repos/ubuntu1804/x86_64  InRelease\n",
            "Hit:8 https://developer.download.nvidia.com/compute/cuda/repos/ubuntu1804/x86_64  InRelease\n",
            "Hit:9 https://developer.download.nvidia.com/compute/machine-learning/repos/ubuntu1804/x86_64  Release\n",
            "Get:10 http://security.ubuntu.com/ubuntu bionic-security InRelease [88.7 kB]\n",
            "Get:11 http://ppa.launchpad.net/c2d4u.team/c2d4u4.0+/ubuntu bionic InRelease [15.9 kB]\n",
            "Hit:12 http://archive.ubuntu.com/ubuntu bionic InRelease\n",
            "Get:14 http://archive.ubuntu.com/ubuntu bionic-updates InRelease [88.7 kB]\n",
            "Hit:15 http://ppa.launchpad.net/cran/libgit2/ubuntu bionic InRelease\n",
            "Get:16 http://ppa.launchpad.net/deadsnakes/ppa/ubuntu bionic InRelease [15.9 kB]\n",
            "Get:17 http://archive.ubuntu.com/ubuntu bionic-backports InRelease [74.6 kB]\n",
            "Get:18 http://security.ubuntu.com/ubuntu bionic-security/main amd64 Packages [2,965 kB]\n",
            "Get:19 http://archive.ubuntu.com/ubuntu bionic-updates/main amd64 Packages [3,396 kB]\n",
            "Hit:20 http://ppa.launchpad.net/graphics-drivers/ppa/ubuntu bionic InRelease\n",
            "Get:21 http://ppa.launchpad.net/c2d4u.team/c2d4u4.0+/ubuntu bionic/main Sources [2,102 kB]\n",
            "Get:22 http://archive.ubuntu.com/ubuntu bionic-updates/restricted amd64 Packages [1,172 kB]\n",
            "Get:23 http://security.ubuntu.com/ubuntu bionic-security/restricted amd64 Packages [1,131 kB]\n",
            "Get:24 http://security.ubuntu.com/ubuntu bionic-security/universe amd64 Packages [1,540 kB]\n",
            "Get:25 http://ppa.launchpad.net/c2d4u.team/c2d4u4.0+/ubuntu bionic/main amd64 Packages [1,077 kB]\n",
            "Get:26 http://ppa.launchpad.net/deadsnakes/ppa/ubuntu bionic/main amd64 Packages [45.2 kB]\n",
            "Fetched 13.8 MB in 6s (2,287 kB/s)\n",
            "Reading package lists... Done\n",
            "Reading package lists... Done\n",
            "Building dependency tree       \n",
            "Reading state information... Done\n",
            "The following package was automatically installed and is no longer required:\n",
            "  libnvidia-common-460\n",
            "Use 'apt autoremove' to remove it.\n",
            "The following additional packages will be installed:\n",
            "  cuda-11-7 cuda-cccl-11-7 cuda-command-line-tools-11-7 cuda-compiler-11-7\n",
            "  cuda-cudart-11-7 cuda-cudart-dev-11-7 cuda-cuobjdump-11-7 cuda-cupti-11-7\n",
            "  cuda-cupti-dev-11-7 cuda-cuxxfilt-11-7 cuda-demo-suite-11-7\n",
            "  cuda-documentation-11-7 cuda-driver-dev-11-7 cuda-gdb-11-7\n",
            "  cuda-libraries-11-7 cuda-libraries-dev-11-7 cuda-memcheck-11-7\n",
            "  cuda-nsight-11-7 cuda-nsight-compute-11-7 cuda-nsight-systems-11-7\n",
            "  cuda-nvcc-11-7 cuda-nvdisasm-11-7 cuda-nvml-dev-11-7 cuda-nvprof-11-7\n",
            "  cuda-nvprune-11-7 cuda-nvrtc-11-7 cuda-nvrtc-dev-11-7 cuda-nvtx-11-7\n",
            "  cuda-nvvp-11-7 cuda-runtime-11-7 cuda-sanitizer-11-7 cuda-toolkit-11-7\n",
            "  cuda-toolkit-11-7-config-common cuda-toolkit-11-config-common\n",
            "  cuda-toolkit-config-common cuda-tools-11-7 cuda-visual-tools-11-7\n",
            "  gds-tools-11-7 libcublas-11-7 libcublas-dev-11-7 libcufft-11-7\n",
            "  libcufft-dev-11-7 libcufile-11-7 libcufile-dev-11-7 libcurand-11-7\n",
            "  libcurand-dev-11-7 libcusolver-11-7 libcusolver-dev-11-7 libcusparse-11-7\n",
            "  libcusparse-dev-11-7 libnpp-11-7 libnpp-dev-11-7 libnvjpeg-11-7\n",
            "  libnvjpeg-dev-11-7\n",
            "The following NEW packages will be installed:\n",
            "  cuda cuda-11-7 cuda-cccl-11-7 cuda-command-line-tools-11-7\n",
            "  cuda-compiler-11-7 cuda-cudart-11-7 cuda-cudart-dev-11-7 cuda-cuobjdump-11-7\n",
            "  cuda-cupti-11-7 cuda-cupti-dev-11-7 cuda-cuxxfilt-11-7 cuda-demo-suite-11-7\n",
            "  cuda-documentation-11-7 cuda-driver-dev-11-7 cuda-gdb-11-7\n",
            "  cuda-libraries-11-7 cuda-libraries-dev-11-7 cuda-memcheck-11-7\n",
            "  cuda-nsight-11-7 cuda-nsight-compute-11-7 cuda-nsight-systems-11-7\n",
            "  cuda-nvcc-11-7 cuda-nvdisasm-11-7 cuda-nvml-dev-11-7 cuda-nvprof-11-7\n",
            "  cuda-nvprune-11-7 cuda-nvrtc-11-7 cuda-nvrtc-dev-11-7 cuda-nvtx-11-7\n",
            "  cuda-nvvp-11-7 cuda-runtime-11-7 cuda-sanitizer-11-7 cuda-toolkit-11-7\n",
            "  cuda-toolkit-11-7-config-common cuda-toolkit-11-config-common\n",
            "  cuda-toolkit-config-common cuda-tools-11-7 cuda-visual-tools-11-7\n",
            "  gds-tools-11-7 libcublas-11-7 libcublas-dev-11-7 libcufft-11-7\n",
            "  libcufft-dev-11-7 libcufile-11-7 libcufile-dev-11-7 libcurand-11-7\n",
            "  libcurand-dev-11-7 libcusolver-11-7 libcusolver-dev-11-7 libcusparse-11-7\n",
            "  libcusparse-dev-11-7 libnpp-11-7 libnpp-dev-11-7 libnvjpeg-11-7\n",
            "  libnvjpeg-dev-11-7\n",
            "0 upgraded, 55 newly installed, 0 to remove and 37 not upgraded.\n",
            "Need to get 1,617 MB of archives.\n",
            "After this operation, 4,299 MB of additional disk space will be used.\n",
            "Get:1 https://developer.download.nvidia.com/compute/cuda/repos/ubuntu1804/x86_64  cuda-toolkit-config-common 11.7.99-1 [16.3 kB]\n",
            "Get:2 https://developer.download.nvidia.com/compute/cuda/repos/ubuntu1804/x86_64  cuda-toolkit-11-config-common 11.7.99-1 [16.3 kB]\n",
            "Get:3 https://developer.download.nvidia.com/compute/cuda/repos/ubuntu1804/x86_64  cuda-toolkit-11-7-config-common 11.7.99-1 [16.2 kB]\n",
            "Get:4 https://developer.download.nvidia.com/compute/cuda/repos/ubuntu1804/x86_64  cuda-cudart-11-7 11.7.99-1 [162 kB]\n",
            "Get:5 https://developer.download.nvidia.com/compute/cuda/repos/ubuntu1804/x86_64  cuda-nvrtc-11-7 11.7.99-1 [15.1 MB]\n",
            "Get:6 https://developer.download.nvidia.com/compute/cuda/repos/ubuntu1804/x86_64  libcublas-11-7 11.10.3.66-1 [210 MB]\n",
            "Get:7 https://developer.download.nvidia.com/compute/cuda/repos/ubuntu1804/x86_64  libcufft-11-7 10.7.2.91-1 [68.3 MB]\n",
            "Get:8 https://developer.download.nvidia.com/compute/cuda/repos/ubuntu1804/x86_64  libcufile-11-7 1.3.1.18-1 [472 kB]\n",
            "Get:9 https://developer.download.nvidia.com/compute/cuda/repos/ubuntu1804/x86_64  libcurand-11-7 10.2.10.91-1 [41.5 MB]\n",
            "Get:10 https://developer.download.nvidia.com/compute/cuda/repos/ubuntu1804/x86_64  libcusolver-11-7 11.4.0.1-1 [45.6 MB]\n",
            "Get:11 https://developer.download.nvidia.com/compute/cuda/repos/ubuntu1804/x86_64  libcusparse-11-7 11.7.4.91-1 [103 MB]\n",
            "Get:12 https://developer.download.nvidia.com/compute/cuda/repos/ubuntu1804/x86_64  libnpp-11-7 11.7.4.75-1 [93.6 MB]\n",
            "Get:13 https://developer.download.nvidia.com/compute/cuda/repos/ubuntu1804/x86_64  libnvjpeg-11-7 11.8.0.2-1 [1,738 kB]\n",
            "Get:14 https://developer.download.nvidia.com/compute/cuda/repos/ubuntu1804/x86_64  cuda-libraries-11-7 11.7.1-1 [2,512 B]\n",
            "Get:15 https://developer.download.nvidia.com/compute/cuda/repos/ubuntu1804/x86_64  cuda-runtime-11-7 11.7.1-1 [2,418 B]\n",
            "Get:16 https://developer.download.nvidia.com/compute/cuda/repos/ubuntu1804/x86_64  cuda-cuobjdump-11-7 11.7.91-1 [130 kB]\n",
            "Get:17 https://developer.download.nvidia.com/compute/cuda/repos/ubuntu1804/x86_64  cuda-cuxxfilt-11-7 11.7.91-1 [188 kB]\n",
            "Get:18 https://developer.download.nvidia.com/compute/cuda/repos/ubuntu1804/x86_64  cuda-cccl-11-7 11.7.91-1 [1,043 kB]\n",
            "Get:19 https://developer.download.nvidia.com/compute/cuda/repos/ubuntu1804/x86_64  cuda-driver-dev-11-7 11.7.99-1 [27.0 kB]\n",
            "Get:20 https://developer.download.nvidia.com/compute/cuda/repos/ubuntu1804/x86_64  cuda-cudart-dev-11-7 11.7.99-1 [764 kB]\n",
            "Get:21 https://developer.download.nvidia.com/compute/cuda/repos/ubuntu1804/x86_64  cuda-nvcc-11-7 11.7.99-1 [36.0 MB]\n",
            "Get:22 https://developer.download.nvidia.com/compute/cuda/repos/ubuntu1804/x86_64  cuda-nvprune-11-7 11.7.91-1 [57.4 kB]\n",
            "Get:23 https://developer.download.nvidia.com/compute/cuda/repos/ubuntu1804/x86_64  cuda-compiler-11-7 11.7.1-1 [2,426 B]\n",
            "Get:24 https://developer.download.nvidia.com/compute/cuda/repos/ubuntu1804/x86_64  cuda-nvrtc-dev-11-7 11.7.99-1 [13.5 MB]\n",
            "Get:25 https://developer.download.nvidia.com/compute/cuda/repos/ubuntu1804/x86_64  libcublas-dev-11-7 11.10.3.66-1 [217 MB]\n",
            "Get:26 https://developer.download.nvidia.com/compute/cuda/repos/ubuntu1804/x86_64  libcufft-dev-11-7 10.7.2.91-1 [152 MB]\n",
            "Get:27 https://developer.download.nvidia.com/compute/cuda/repos/ubuntu1804/x86_64  libcufile-dev-11-7 1.3.1.18-1 [7,835 kB]\n",
            "Get:28 https://developer.download.nvidia.com/compute/cuda/repos/ubuntu1804/x86_64  libcurand-dev-11-7 10.2.10.91-1 [41.9 MB]\n",
            "Get:29 https://developer.download.nvidia.com/compute/cuda/repos/ubuntu1804/x86_64  libcusolver-dev-11-7 11.4.0.1-1 [32.7 MB]\n",
            "Get:30 https://developer.download.nvidia.com/compute/cuda/repos/ubuntu1804/x86_64  libcusparse-dev-11-7 11.7.4.91-1 [105 MB]\n",
            "Get:31 https://developer.download.nvidia.com/compute/cuda/repos/ubuntu1804/x86_64  libnpp-dev-11-7 11.7.4.75-1 [90.8 MB]\n",
            "Get:32 https://developer.download.nvidia.com/compute/cuda/repos/ubuntu1804/x86_64  libnvjpeg-dev-11-7 11.8.0.2-1 [1,409 kB]\n",
            "Get:33 https://developer.download.nvidia.com/compute/cuda/repos/ubuntu1804/x86_64  cuda-libraries-dev-11-7 11.7.1-1 [2,538 B]\n",
            "Get:34 https://developer.download.nvidia.com/compute/cuda/repos/ubuntu1804/x86_64  cuda-cupti-11-7 11.7.101-1 [13.6 MB]\n",
            "Get:35 https://developer.download.nvidia.com/compute/cuda/repos/ubuntu1804/x86_64  cuda-cupti-dev-11-7 11.7.101-1 [2,536 kB]\n",
            "Get:36 https://developer.download.nvidia.com/compute/cuda/repos/ubuntu1804/x86_64  cuda-nvdisasm-11-7 11.7.91-1 [32.8 MB]\n",
            "Get:37 https://developer.download.nvidia.com/compute/cuda/repos/ubuntu1804/x86_64  cuda-gdb-11-7 11.7.91-1 [4,132 kB]\n",
            "Get:38 https://developer.download.nvidia.com/compute/cuda/repos/ubuntu1804/x86_64  cuda-memcheck-11-7 11.7.91-1 [142 kB]\n",
            "Get:39 https://developer.download.nvidia.com/compute/cuda/repos/ubuntu1804/x86_64  cuda-nvprof-11-7 11.7.101-1 [1,947 kB]\n",
            "Get:40 https://developer.download.nvidia.com/compute/cuda/repos/ubuntu1804/x86_64  cuda-nvtx-11-7 11.7.91-1 [51.4 kB]\n",
            "Get:41 https://developer.download.nvidia.com/compute/cuda/repos/ubuntu1804/x86_64  cuda-sanitizer-11-7 11.7.91-1 [8,865 kB]\n",
            "Get:42 https://developer.download.nvidia.com/compute/cuda/repos/ubuntu1804/x86_64  cuda-command-line-tools-11-7 11.7.1-1 [2,468 B]\n",
            "Get:43 https://developer.download.nvidia.com/compute/cuda/repos/ubuntu1804/x86_64  cuda-nsight-compute-11-7 11.7.1-1 [3,710 B]\n",
            "Get:44 https://developer.download.nvidia.com/compute/cuda/repos/ubuntu1804/x86_64  cuda-nsight-systems-11-7 11.7.1-1 [3,302 B]\n",
            "Get:45 https://developer.download.nvidia.com/compute/cuda/repos/ubuntu1804/x86_64  cuda-nsight-11-7 11.7.91-1 [119 MB]\n",
            "Get:46 https://developer.download.nvidia.com/compute/cuda/repos/ubuntu1804/x86_64  cuda-nvml-dev-11-7 11.7.91-1 [79.2 kB]\n",
            "Get:47 https://developer.download.nvidia.com/compute/cuda/repos/ubuntu1804/x86_64  cuda-nvvp-11-7 11.7.101-1 [113 MB]\n",
            "Get:48 https://developer.download.nvidia.com/compute/cuda/repos/ubuntu1804/x86_64  cuda-visual-tools-11-7 11.7.1-1 [2,864 B]\n",
            "Get:49 https://developer.download.nvidia.com/compute/cuda/repos/ubuntu1804/x86_64  gds-tools-11-7 1.3.1.18-1 [38.9 MB]\n",
            "Get:50 https://developer.download.nvidia.com/compute/cuda/repos/ubuntu1804/x86_64  cuda-tools-11-7 11.7.1-1 [2,388 B]\n",
            "Get:51 https://developer.download.nvidia.com/compute/cuda/repos/ubuntu1804/x86_64  cuda-documentation-11-7 11.7.91-1 [49.8 kB]\n",
            "Get:52 https://developer.download.nvidia.com/compute/cuda/repos/ubuntu1804/x86_64  cuda-toolkit-11-7 11.7.1-1 [3,364 B]\n",
            "Get:53 https://developer.download.nvidia.com/compute/cuda/repos/ubuntu1804/x86_64  cuda-demo-suite-11-7 11.7.91-1 [3,987 kB]\n",
            "Get:54 https://developer.download.nvidia.com/compute/cuda/repos/ubuntu1804/x86_64  cuda-11-7 11.7.1-1 [2,444 B]\n",
            "Get:55 https://developer.download.nvidia.com/compute/cuda/repos/ubuntu1804/x86_64  cuda 11.7.1-1 [2,392 B]\n",
            "Fetched 1,617 MB in 44s (36.8 MB/s)\n",
            "Extracting templates from packages: 100%\n",
            "Selecting previously unselected package cuda-toolkit-config-common.\n",
            "(Reading database ... 155758 files and directories currently installed.)\n",
            "Preparing to unpack .../00-cuda-toolkit-config-common_11.7.99-1_all.deb ...\n",
            "Unpacking cuda-toolkit-config-common (11.7.99-1) ...\n",
            "Selecting previously unselected package cuda-toolkit-11-config-common.\n",
            "Preparing to unpack .../01-cuda-toolkit-11-config-common_11.7.99-1_all.deb ...\n",
            "Unpacking cuda-toolkit-11-config-common (11.7.99-1) ...\n",
            "Selecting previously unselected package cuda-toolkit-11-7-config-common.\n",
            "Preparing to unpack .../02-cuda-toolkit-11-7-config-common_11.7.99-1_all.deb ...\n",
            "Unpacking cuda-toolkit-11-7-config-common (11.7.99-1) ...\n",
            "Selecting previously unselected package cuda-cudart-11-7.\n",
            "Preparing to unpack .../03-cuda-cudart-11-7_11.7.99-1_amd64.deb ...\n",
            "Unpacking cuda-cudart-11-7 (11.7.99-1) ...\n",
            "Selecting previously unselected package cuda-nvrtc-11-7.\n",
            "Preparing to unpack .../04-cuda-nvrtc-11-7_11.7.99-1_amd64.deb ...\n",
            "Unpacking cuda-nvrtc-11-7 (11.7.99-1) ...\n",
            "Selecting previously unselected package libcublas-11-7.\n",
            "Preparing to unpack .../05-libcublas-11-7_11.10.3.66-1_amd64.deb ...\n",
            "Unpacking libcublas-11-7 (11.10.3.66-1) ...\n",
            "Selecting previously unselected package libcufft-11-7.\n",
            "Preparing to unpack .../06-libcufft-11-7_10.7.2.91-1_amd64.deb ...\n",
            "Unpacking libcufft-11-7 (10.7.2.91-1) ...\n",
            "Selecting previously unselected package libcufile-11-7.\n",
            "Preparing to unpack .../07-libcufile-11-7_1.3.1.18-1_amd64.deb ...\n",
            "Unpacking libcufile-11-7 (1.3.1.18-1) ...\n",
            "Selecting previously unselected package libcurand-11-7.\n",
            "Preparing to unpack .../08-libcurand-11-7_10.2.10.91-1_amd64.deb ...\n",
            "Unpacking libcurand-11-7 (10.2.10.91-1) ...\n",
            "Selecting previously unselected package libcusolver-11-7.\n",
            "Preparing to unpack .../09-libcusolver-11-7_11.4.0.1-1_amd64.deb ...\n",
            "Unpacking libcusolver-11-7 (11.4.0.1-1) ...\n",
            "Selecting previously unselected package libcusparse-11-7.\n",
            "Preparing to unpack .../10-libcusparse-11-7_11.7.4.91-1_amd64.deb ...\n",
            "Unpacking libcusparse-11-7 (11.7.4.91-1) ...\n",
            "Selecting previously unselected package libnpp-11-7.\n",
            "Preparing to unpack .../11-libnpp-11-7_11.7.4.75-1_amd64.deb ...\n",
            "Unpacking libnpp-11-7 (11.7.4.75-1) ...\n",
            "Selecting previously unselected package libnvjpeg-11-7.\n",
            "Preparing to unpack .../12-libnvjpeg-11-7_11.8.0.2-1_amd64.deb ...\n",
            "Unpacking libnvjpeg-11-7 (11.8.0.2-1) ...\n",
            "Selecting previously unselected package cuda-libraries-11-7.\n",
            "Preparing to unpack .../13-cuda-libraries-11-7_11.7.1-1_amd64.deb ...\n",
            "Unpacking cuda-libraries-11-7 (11.7.1-1) ...\n",
            "Selecting previously unselected package cuda-runtime-11-7.\n",
            "Preparing to unpack .../14-cuda-runtime-11-7_11.7.1-1_amd64.deb ...\n",
            "Unpacking cuda-runtime-11-7 (11.7.1-1) ...\n",
            "Selecting previously unselected package cuda-cuobjdump-11-7.\n",
            "Preparing to unpack .../15-cuda-cuobjdump-11-7_11.7.91-1_amd64.deb ...\n",
            "Unpacking cuda-cuobjdump-11-7 (11.7.91-1) ...\n",
            "Selecting previously unselected package cuda-cuxxfilt-11-7.\n",
            "Preparing to unpack .../16-cuda-cuxxfilt-11-7_11.7.91-1_amd64.deb ...\n",
            "Unpacking cuda-cuxxfilt-11-7 (11.7.91-1) ...\n",
            "Selecting previously unselected package cuda-cccl-11-7.\n",
            "Preparing to unpack .../17-cuda-cccl-11-7_11.7.91-1_amd64.deb ...\n",
            "Unpacking cuda-cccl-11-7 (11.7.91-1) ...\n",
            "Selecting previously unselected package cuda-driver-dev-11-7.\n",
            "Preparing to unpack .../18-cuda-driver-dev-11-7_11.7.99-1_amd64.deb ...\n",
            "Unpacking cuda-driver-dev-11-7 (11.7.99-1) ...\n",
            "Selecting previously unselected package cuda-cudart-dev-11-7.\n",
            "Preparing to unpack .../19-cuda-cudart-dev-11-7_11.7.99-1_amd64.deb ...\n",
            "Unpacking cuda-cudart-dev-11-7 (11.7.99-1) ...\n",
            "Selecting previously unselected package cuda-nvcc-11-7.\n",
            "Preparing to unpack .../20-cuda-nvcc-11-7_11.7.99-1_amd64.deb ...\n",
            "Unpacking cuda-nvcc-11-7 (11.7.99-1) ...\n",
            "Selecting previously unselected package cuda-nvprune-11-7.\n",
            "Preparing to unpack .../21-cuda-nvprune-11-7_11.7.91-1_amd64.deb ...\n",
            "Unpacking cuda-nvprune-11-7 (11.7.91-1) ...\n",
            "Selecting previously unselected package cuda-compiler-11-7.\n",
            "Preparing to unpack .../22-cuda-compiler-11-7_11.7.1-1_amd64.deb ...\n",
            "Unpacking cuda-compiler-11-7 (11.7.1-1) ...\n",
            "Selecting previously unselected package cuda-nvrtc-dev-11-7.\n",
            "Preparing to unpack .../23-cuda-nvrtc-dev-11-7_11.7.99-1_amd64.deb ...\n",
            "Unpacking cuda-nvrtc-dev-11-7 (11.7.99-1) ...\n",
            "Selecting previously unselected package libcublas-dev-11-7.\n",
            "Preparing to unpack .../24-libcublas-dev-11-7_11.10.3.66-1_amd64.deb ...\n",
            "Unpacking libcublas-dev-11-7 (11.10.3.66-1) ...\n",
            "Selecting previously unselected package libcufft-dev-11-7.\n",
            "Preparing to unpack .../25-libcufft-dev-11-7_10.7.2.91-1_amd64.deb ...\n",
            "Unpacking libcufft-dev-11-7 (10.7.2.91-1) ...\n",
            "Selecting previously unselected package libcufile-dev-11-7.\n",
            "Preparing to unpack .../26-libcufile-dev-11-7_1.3.1.18-1_amd64.deb ...\n",
            "Unpacking libcufile-dev-11-7 (1.3.1.18-1) ...\n",
            "Selecting previously unselected package libcurand-dev-11-7.\n",
            "Preparing to unpack .../27-libcurand-dev-11-7_10.2.10.91-1_amd64.deb ...\n",
            "Unpacking libcurand-dev-11-7 (10.2.10.91-1) ...\n",
            "Selecting previously unselected package libcusolver-dev-11-7.\n",
            "Preparing to unpack .../28-libcusolver-dev-11-7_11.4.0.1-1_amd64.deb ...\n",
            "Unpacking libcusolver-dev-11-7 (11.4.0.1-1) ...\n",
            "Selecting previously unselected package libcusparse-dev-11-7.\n",
            "Preparing to unpack .../29-libcusparse-dev-11-7_11.7.4.91-1_amd64.deb ...\n",
            "Unpacking libcusparse-dev-11-7 (11.7.4.91-1) ...\n",
            "Selecting previously unselected package libnpp-dev-11-7.\n",
            "Preparing to unpack .../30-libnpp-dev-11-7_11.7.4.75-1_amd64.deb ...\n",
            "Unpacking libnpp-dev-11-7 (11.7.4.75-1) ...\n",
            "Selecting previously unselected package libnvjpeg-dev-11-7.\n",
            "Preparing to unpack .../31-libnvjpeg-dev-11-7_11.8.0.2-1_amd64.deb ...\n",
            "Unpacking libnvjpeg-dev-11-7 (11.8.0.2-1) ...\n",
            "Selecting previously unselected package cuda-libraries-dev-11-7.\n",
            "Preparing to unpack .../32-cuda-libraries-dev-11-7_11.7.1-1_amd64.deb ...\n",
            "Unpacking cuda-libraries-dev-11-7 (11.7.1-1) ...\n",
            "Selecting previously unselected package cuda-cupti-11-7.\n",
            "Preparing to unpack .../33-cuda-cupti-11-7_11.7.101-1_amd64.deb ...\n",
            "Unpacking cuda-cupti-11-7 (11.7.101-1) ...\n",
            "Selecting previously unselected package cuda-cupti-dev-11-7.\n",
            "Preparing to unpack .../34-cuda-cupti-dev-11-7_11.7.101-1_amd64.deb ...\n",
            "Unpacking cuda-cupti-dev-11-7 (11.7.101-1) ...\n",
            "Selecting previously unselected package cuda-nvdisasm-11-7.\n",
            "Preparing to unpack .../35-cuda-nvdisasm-11-7_11.7.91-1_amd64.deb ...\n",
            "Unpacking cuda-nvdisasm-11-7 (11.7.91-1) ...\n",
            "Selecting previously unselected package cuda-gdb-11-7.\n",
            "Preparing to unpack .../36-cuda-gdb-11-7_11.7.91-1_amd64.deb ...\n",
            "Unpacking cuda-gdb-11-7 (11.7.91-1) ...\n",
            "Selecting previously unselected package cuda-memcheck-11-7.\n",
            "Preparing to unpack .../37-cuda-memcheck-11-7_11.7.91-1_amd64.deb ...\n",
            "Unpacking cuda-memcheck-11-7 (11.7.91-1) ...\n",
            "Selecting previously unselected package cuda-nvprof-11-7.\n",
            "Preparing to unpack .../38-cuda-nvprof-11-7_11.7.101-1_amd64.deb ...\n",
            "Unpacking cuda-nvprof-11-7 (11.7.101-1) ...\n",
            "Selecting previously unselected package cuda-nvtx-11-7.\n",
            "Preparing to unpack .../39-cuda-nvtx-11-7_11.7.91-1_amd64.deb ...\n",
            "Unpacking cuda-nvtx-11-7 (11.7.91-1) ...\n",
            "Selecting previously unselected package cuda-sanitizer-11-7.\n",
            "Preparing to unpack .../40-cuda-sanitizer-11-7_11.7.91-1_amd64.deb ...\n",
            "Unpacking cuda-sanitizer-11-7 (11.7.91-1) ...\n",
            "Selecting previously unselected package cuda-command-line-tools-11-7.\n",
            "Preparing to unpack .../41-cuda-command-line-tools-11-7_11.7.1-1_amd64.deb ...\n",
            "Unpacking cuda-command-line-tools-11-7 (11.7.1-1) ...\n",
            "Selecting previously unselected package cuda-nsight-compute-11-7.\n",
            "Preparing to unpack .../42-cuda-nsight-compute-11-7_11.7.1-1_amd64.deb ...\n",
            "Unpacking cuda-nsight-compute-11-7 (11.7.1-1) ...\n",
            "Selecting previously unselected package cuda-nsight-systems-11-7.\n",
            "Preparing to unpack .../43-cuda-nsight-systems-11-7_11.7.1-1_amd64.deb ...\n",
            "Unpacking cuda-nsight-systems-11-7 (11.7.1-1) ...\n",
            "Selecting previously unselected package cuda-nsight-11-7.\n",
            "Preparing to unpack .../44-cuda-nsight-11-7_11.7.91-1_amd64.deb ...\n",
            "Unpacking cuda-nsight-11-7 (11.7.91-1) ...\n",
            "Selecting previously unselected package cuda-nvml-dev-11-7.\n",
            "Preparing to unpack .../45-cuda-nvml-dev-11-7_11.7.91-1_amd64.deb ...\n",
            "Unpacking cuda-nvml-dev-11-7 (11.7.91-1) ...\n",
            "Selecting previously unselected package cuda-nvvp-11-7.\n",
            "Preparing to unpack .../46-cuda-nvvp-11-7_11.7.101-1_amd64.deb ...\n",
            "Unpacking cuda-nvvp-11-7 (11.7.101-1) ...\n",
            "Selecting previously unselected package cuda-visual-tools-11-7.\n",
            "Preparing to unpack .../47-cuda-visual-tools-11-7_11.7.1-1_amd64.deb ...\n",
            "Unpacking cuda-visual-tools-11-7 (11.7.1-1) ...\n",
            "Selecting previously unselected package gds-tools-11-7.\n",
            "Preparing to unpack .../48-gds-tools-11-7_1.3.1.18-1_amd64.deb ...\n",
            "Unpacking gds-tools-11-7 (1.3.1.18-1) ...\n",
            "Selecting previously unselected package cuda-tools-11-7.\n",
            "Preparing to unpack .../49-cuda-tools-11-7_11.7.1-1_amd64.deb ...\n",
            "Unpacking cuda-tools-11-7 (11.7.1-1) ...\n",
            "Selecting previously unselected package cuda-documentation-11-7.\n",
            "Preparing to unpack .../50-cuda-documentation-11-7_11.7.91-1_amd64.deb ...\n",
            "Unpacking cuda-documentation-11-7 (11.7.91-1) ...\n",
            "Selecting previously unselected package cuda-toolkit-11-7.\n",
            "Preparing to unpack .../51-cuda-toolkit-11-7_11.7.1-1_amd64.deb ...\n",
            "Unpacking cuda-toolkit-11-7 (11.7.1-1) ...\n",
            "Selecting previously unselected package cuda-demo-suite-11-7.\n",
            "Preparing to unpack .../52-cuda-demo-suite-11-7_11.7.91-1_amd64.deb ...\n",
            "Unpacking cuda-demo-suite-11-7 (11.7.91-1) ...\n",
            "Selecting previously unselected package cuda-11-7.\n",
            "Preparing to unpack .../53-cuda-11-7_11.7.1-1_amd64.deb ...\n",
            "Unpacking cuda-11-7 (11.7.1-1) ...\n",
            "Selecting previously unselected package cuda.\n",
            "Preparing to unpack .../54-cuda_11.7.1-1_amd64.deb ...\n",
            "Unpacking cuda (11.7.1-1) ...\n",
            "Setting up cuda-driver-dev-11-7 (11.7.99-1) ...\n",
            "Setting up cuda-toolkit-config-common (11.7.99-1) ...\n",
            "Setting up cuda-cuxxfilt-11-7 (11.7.91-1) ...\n",
            "Setting up cuda-nvvp-11-7 (11.7.101-1) ...\n",
            "Setting up cuda-nvtx-11-7 (11.7.91-1) ...\n",
            "Setting up cuda-nvprune-11-7 (11.7.91-1) ...\n",
            "Setting up cuda-documentation-11-7 (11.7.91-1) ...\n",
            "Setting up cuda-nsight-11-7 (11.7.91-1) ...\n",
            "Setting up cuda-toolkit-11-config-common (11.7.99-1) ...\n",
            "Setting up cuda-sanitizer-11-7 (11.7.91-1) ...\n",
            "Setting up cuda-nvdisasm-11-7 (11.7.91-1) ...\n",
            "Setting up cuda-nsight-systems-11-7 (11.7.1-1) ...\n",
            "Setting up cuda-nvprof-11-7 (11.7.101-1) ...\n",
            "Setting up cuda-cccl-11-7 (11.7.91-1) ...\n",
            "Setting up cuda-nvrtc-11-7 (11.7.99-1) ...\n",
            "Setting up gds-tools-11-7 (1.3.1.18-1) ...\n",
            "Setting up cuda-toolkit-11-7-config-common (11.7.99-1) ...\n",
            "Setting alternatives\n",
            "update-alternatives: using /usr/local/cuda-11.7 to provide /usr/local/cuda (cuda) in auto mode\n",
            "update-alternatives: using /usr/local/cuda-11.7 to provide /usr/local/cuda-11 (cuda-11) in auto mode\n",
            "Setting up cuda-nvml-dev-11-7 (11.7.91-1) ...\n",
            "Setting up libnvjpeg-11-7 (11.8.0.2-1) ...\n",
            "Setting up libnvjpeg-dev-11-7 (11.8.0.2-1) ...\n",
            "Setting up cuda-memcheck-11-7 (11.7.91-1) ...\n",
            "Setting up cuda-nsight-compute-11-7 (11.7.1-1) ...\n",
            "Setting up cuda-cuobjdump-11-7 (11.7.91-1) ...\n",
            "Setting up cuda-nvrtc-dev-11-7 (11.7.99-1) ...\n",
            "Setting up libcublas-11-7 (11.10.3.66-1) ...\n",
            "Setting up libcufile-11-7 (1.3.1.18-1) ...\n",
            "Setting alternatives\n",
            "update-alternatives: using /usr/local/cuda-11.7/gds/cufile.json to provide /etc/cufile.json (cufile.json) in auto mode\n",
            "Setting up cuda-cudart-11-7 (11.7.99-1) ...\n",
            "Setting up libcurand-11-7 (10.2.10.91-1) ...\n",
            "Setting up libcufft-11-7 (10.7.2.91-1) ...\n",
            "Setting up libcusparse-11-7 (11.7.4.91-1) ...\n",
            "Setting up libcurand-dev-11-7 (10.2.10.91-1) ...\n",
            "Setting up libcusolver-11-7 (11.4.0.1-1) ...\n",
            "Setting up libcufile-dev-11-7 (1.3.1.18-1) ...\n",
            "Setting up libnpp-11-7 (11.7.4.75-1) ...\n",
            "Setting up libcusolver-dev-11-7 (11.4.0.1-1) ...\n",
            "Setting up cuda-gdb-11-7 (11.7.91-1) ...\n",
            "Setting up cuda-cudart-dev-11-7 (11.7.99-1) ...\n",
            "Setting up libcublas-dev-11-7 (11.10.3.66-1) ...\n",
            "Setting up libcufft-dev-11-7 (10.7.2.91-1) ...\n",
            "Setting up libcusparse-dev-11-7 (11.7.4.91-1) ...\n",
            "Setting up cuda-libraries-11-7 (11.7.1-1) ...\n",
            "Setting up cuda-nvcc-11-7 (11.7.99-1) ...\n",
            "Setting up libnpp-dev-11-7 (11.7.4.75-1) ...\n",
            "Setting up cuda-runtime-11-7 (11.7.1-1) ...\n",
            "Setting up cuda-demo-suite-11-7 (11.7.91-1) ...\n",
            "Setting up cuda-cupti-11-7 (11.7.101-1) ...\n",
            "Setting up cuda-libraries-dev-11-7 (11.7.1-1) ...\n",
            "Setting up cuda-compiler-11-7 (11.7.1-1) ...\n",
            "Setting up cuda-cupti-dev-11-7 (11.7.101-1) ...\n",
            "Setting up cuda-visual-tools-11-7 (11.7.1-1) ...\n",
            "Setting up cuda-command-line-tools-11-7 (11.7.1-1) ...\n",
            "Setting up cuda-tools-11-7 (11.7.1-1) ...\n",
            "Setting up cuda-toolkit-11-7 (11.7.1-1) ...\n",
            "Setting alternatives\n",
            "Setting up cuda-11-7 (11.7.1-1) ...\n",
            "Setting up cuda (11.7.1-1) ...\n",
            "Processing triggers for libc-bin (2.27-3ubuntu1.5) ...\n"
          ]
        }
      ],
      "source": [
        "!wget https://developer.nvidia.com/compute/cuda/9.2/Prod/local_installers/cuda-repo-ubuntu1604-9-2-local_9.2.88-1_amd64 -O cuda-repo-ubuntu1604-9-2-local_9.2.88-1_amd64.deb\n",
        "!dpkg -i cuda-repo-ubuntu1604-9-2-local_9.2.88-1_amd64.deb\n",
        "!apt-key add /var/cuda-repo-9-2-local/7fa2af80.pub\n",
        "!apt-get update\n",
        "!apt-get install cuda"
      ]
    },
    {
      "cell_type": "code",
      "execution_count": null,
      "metadata": {
        "colab": {
          "base_uri": "https://localhost:8080/"
        },
        "id": "dUU8BFS1vQjV",
        "outputId": "35b56d72-b9c5-4a8f-cc33-8b23413a94a1"
      },
      "outputs": [
        {
          "output_type": "stream",
          "name": "stdout",
          "text": [
            "cat: /usr/local/lib/python3.7.13/dist-packages/external/local_config_cuda/cuda/cuda/cuda_config.h: No such file or directory\n"
          ]
        }
      ],
      "source": [
        "!cat /usr/local/lib/python3.7.13/dist-packages/external/local_config_cuda/cuda/cuda/cuda_config.h |\\\n",
        "grep TF_CUDA_VERSION"
      ]
    },
    {
      "cell_type": "code",
      "source": [
        "!apt-get update\n",
        "!apt-get install nvidia-cuda-toolkit"
      ],
      "metadata": {
        "colab": {
          "base_uri": "https://localhost:8080/"
        },
        "id": "KATV34T8oNVP",
        "outputId": "899671bd-8342-451e-ef40-352a2e4be38b"
      },
      "execution_count": null,
      "outputs": [
        {
          "output_type": "stream",
          "name": "stdout",
          "text": [
            "\r0% [Working]\r            \rGet:1 file:/var/cuda-repo-9-2-local  InRelease\n",
            "\r0% [Connecting to archive.ubuntu.com] [Connecting to security.ubuntu.com] [Conn\r                                                                               \rIgn:1 file:/var/cuda-repo-9-2-local  InRelease\n",
            "\r0% [Connecting to archive.ubuntu.com] [Connecting to security.ubuntu.com] [Conn\r                                                                               \rGet:2 file:/var/cuda-repo-9-2-local  Release [574 B]\n",
            "\r0% [Connecting to archive.ubuntu.com] [Connecting to security.ubuntu.com] [Conn\r                                                                               \rGet:2 file:/var/cuda-repo-9-2-local  Release [574 B]\n",
            "Hit:3 https://cloud.r-project.org/bin/linux/ubuntu bionic-cran40/ InRelease\n",
            "Hit:5 http://security.ubuntu.com/ubuntu bionic-security InRelease\n",
            "Hit:6 http://ppa.launchpad.net/c2d4u.team/c2d4u4.0+/ubuntu bionic InRelease\n",
            "Hit:7 http://archive.ubuntu.com/ubuntu bionic InRelease\n",
            "Hit:8 http://ppa.launchpad.net/cran/libgit2/ubuntu bionic InRelease\n",
            "Hit:9 http://archive.ubuntu.com/ubuntu bionic-updates InRelease\n",
            "Ign:10 https://developer.download.nvidia.com/compute/machine-learning/repos/ubuntu1804/x86_64  InRelease\n",
            "Hit:11 https://developer.download.nvidia.com/compute/cuda/repos/ubuntu1804/x86_64  InRelease\n",
            "Hit:12 https://developer.download.nvidia.com/compute/machine-learning/repos/ubuntu1804/x86_64  Release\n",
            "Hit:13 http://archive.ubuntu.com/ubuntu bionic-backports InRelease\n",
            "Hit:14 http://ppa.launchpad.net/deadsnakes/ppa/ubuntu bionic InRelease\n",
            "Hit:16 http://ppa.launchpad.net/graphics-drivers/ppa/ubuntu bionic InRelease\n",
            "Reading package lists... Done\n",
            "Reading package lists... Done\n",
            "Building dependency tree       \n",
            "Reading state information... Done\n",
            "The following package was automatically installed and is no longer required:\n",
            "  libnvidia-common-460\n",
            "Use 'apt autoremove' to remove it.\n",
            "The following additional packages will be installed:\n",
            "  cpp-6 fonts-dejavu-core fonts-dejavu-extra g++-6 gcc-6 gcc-6-base\n",
            "  libaccinj64-9.1 libasan3 libatk-wrapper-java libatk-wrapper-java-jni\n",
            "  libcublas9.1 libcudart9.1 libcufft9.1 libcufftw9.1 libcuinj64-9.1\n",
            "  libcurand9.1 libcusolver9.1 libcusparse9.1 libgail-common libgail18\n",
            "  libgcc-6-dev libgtk2.0-0 libgtk2.0-bin libgtk2.0-common libnppc9.1\n",
            "  libnppial9.1 libnppicc9.1 libnppicom9.1 libnppidei9.1 libnppif9.1\n",
            "  libnppig9.1 libnppim9.1 libnppist9.1 libnppisu9.1 libnppitc9.1 libnpps9.1\n",
            "  libnvblas9.1 libnvgraph9.1 libnvrtc9.1 libnvtoolsext1 libnvvm3\n",
            "  libstdc++-6-dev libthrust-dev libvdpau-dev libxxf86dga1 nvidia-cuda-dev\n",
            "  nvidia-cuda-doc nvidia-cuda-gdb nvidia-profiler nvidia-visual-profiler\n",
            "  openjdk-8-jre openjdk-8-jre-headless x11-utils\n",
            "Suggested packages:\n",
            "  gcc-6-locales g++-6-multilib gcc-6-doc libstdc++6-6-dbg gcc-6-multilib\n",
            "  libgcc1-dbg libgomp1-dbg libitm1-dbg libatomic1-dbg libasan3-dbg\n",
            "  liblsan0-dbg libtsan0-dbg libubsan0-dbg libcilkrts5-dbg libmpx2-dbg\n",
            "  libquadmath0-dbg gvfs libstdc++-6-doc libvdpau-doc libcupti-dev\n",
            "  nvidia-driver libnss-mdns fonts-ipafont-gothic fonts-ipafont-mincho\n",
            "  fonts-wqy-microhei fonts-wqy-zenhei fonts-indic mesa-utils\n",
            "Recommended packages:\n",
            "  libnvcuvid1\n",
            "The following NEW packages will be installed:\n",
            "  cpp-6 fonts-dejavu-core fonts-dejavu-extra g++-6 gcc-6 gcc-6-base\n",
            "  libaccinj64-9.1 libasan3 libatk-wrapper-java libatk-wrapper-java-jni\n",
            "  libcublas9.1 libcudart9.1 libcufft9.1 libcufftw9.1 libcuinj64-9.1\n",
            "  libcurand9.1 libcusolver9.1 libcusparse9.1 libgail-common libgail18\n",
            "  libgcc-6-dev libgtk2.0-0 libgtk2.0-bin libgtk2.0-common libnppc9.1\n",
            "  libnppial9.1 libnppicc9.1 libnppicom9.1 libnppidei9.1 libnppif9.1\n",
            "  libnppig9.1 libnppim9.1 libnppist9.1 libnppisu9.1 libnppitc9.1 libnpps9.1\n",
            "  libnvblas9.1 libnvgraph9.1 libnvrtc9.1 libnvtoolsext1 libnvvm3\n",
            "  libstdc++-6-dev libthrust-dev libvdpau-dev libxxf86dga1 nvidia-cuda-dev\n",
            "  nvidia-cuda-doc nvidia-cuda-gdb nvidia-cuda-toolkit nvidia-profiler\n",
            "  nvidia-visual-profiler openjdk-8-jre openjdk-8-jre-headless x11-utils\n",
            "0 upgraded, 54 newly installed, 0 to remove and 37 not upgraded.\n",
            "Need to get 830 MB of archives.\n",
            "After this operation, 1,997 MB of additional disk space will be used.\n",
            "Get:1 http://ppa.launchpad.net/graphics-drivers/ppa/ubuntu bionic/main amd64 libvdpau-dev amd64 1.3-0ubuntu0~gpu18.04.2 [42.7 kB]\n",
            "Get:2 http://archive.ubuntu.com/ubuntu bionic/main amd64 libxxf86dga1 amd64 2:1.1.4-1 [13.7 kB]\n",
            "Get:3 http://archive.ubuntu.com/ubuntu bionic-updates/universe amd64 gcc-6-base amd64 6.5.0-2ubuntu1~18.04 [16.7 kB]\n",
            "Get:4 http://archive.ubuntu.com/ubuntu bionic-updates/universe amd64 cpp-6 amd64 6.5.0-2ubuntu1~18.04 [6,396 kB]\n",
            "Get:5 http://archive.ubuntu.com/ubuntu bionic/main amd64 fonts-dejavu-core all 2.37-1 [1,041 kB]\n",
            "Get:6 http://archive.ubuntu.com/ubuntu bionic/main amd64 fonts-dejavu-extra all 2.37-1 [1,953 kB]\n",
            "Get:7 http://archive.ubuntu.com/ubuntu bionic-updates/universe amd64 libasan3 amd64 6.5.0-2ubuntu1~18.04 [313 kB]\n",
            "Get:8 http://archive.ubuntu.com/ubuntu bionic-updates/universe amd64 libgcc-6-dev amd64 6.5.0-2ubuntu1~18.04 [2,308 kB]\n",
            "Get:9 http://archive.ubuntu.com/ubuntu bionic-updates/universe amd64 gcc-6 amd64 6.5.0-2ubuntu1~18.04 [7,067 kB]\n",
            "Get:10 http://archive.ubuntu.com/ubuntu bionic-updates/universe amd64 libstdc++-6-dev amd64 6.5.0-2ubuntu1~18.04 [1,437 kB]\n",
            "Get:11 http://archive.ubuntu.com/ubuntu bionic-updates/universe amd64 g++-6 amd64 6.5.0-2ubuntu1~18.04 [7,213 kB]\n",
            "Get:12 http://archive.ubuntu.com/ubuntu bionic/multiverse amd64 libaccinj64-9.1 amd64 9.1.85-3ubuntu1 [1,748 kB]\n",
            "Get:13 http://archive.ubuntu.com/ubuntu bionic/main amd64 x11-utils amd64 7.7+3build1 [196 kB]\n",
            "Get:14 http://archive.ubuntu.com/ubuntu bionic/main amd64 libatk-wrapper-java all 0.33.3-20ubuntu0.1 [34.7 kB]\n",
            "Get:15 http://archive.ubuntu.com/ubuntu bionic/main amd64 libatk-wrapper-java-jni amd64 0.33.3-20ubuntu0.1 [28.3 kB]\n",
            "Get:16 http://archive.ubuntu.com/ubuntu bionic/multiverse amd64 libcublas9.1 amd64 9.1.85-3ubuntu1 [25.0 MB]\n",
            "Get:17 http://archive.ubuntu.com/ubuntu bionic/multiverse amd64 libcudart9.1 amd64 9.1.85-3ubuntu1 [121 kB]\n",
            "Get:18 http://archive.ubuntu.com/ubuntu bionic/multiverse amd64 libcufft9.1 amd64 9.1.85-3ubuntu1 [76.1 MB]\n",
            "Get:19 http://archive.ubuntu.com/ubuntu bionic/multiverse amd64 libcufftw9.1 amd64 9.1.85-3ubuntu1 [131 kB]\n",
            "Get:20 http://archive.ubuntu.com/ubuntu bionic/multiverse amd64 libcuinj64-9.1 amd64 9.1.85-3ubuntu1 [1,878 kB]\n",
            "Get:21 http://archive.ubuntu.com/ubuntu bionic/multiverse amd64 libcurand9.1 amd64 9.1.85-3ubuntu1 [38.9 MB]\n",
            "Get:22 http://archive.ubuntu.com/ubuntu bionic/multiverse amd64 libcusolver9.1 amd64 9.1.85-3ubuntu1 [28.2 MB]\n",
            "Get:23 http://archive.ubuntu.com/ubuntu bionic/multiverse amd64 libcusparse9.1 amd64 9.1.85-3ubuntu1 [25.2 MB]\n",
            "Get:24 http://archive.ubuntu.com/ubuntu bionic/main amd64 libgtk2.0-common all 2.24.32-1ubuntu1 [125 kB]\n",
            "Get:25 http://archive.ubuntu.com/ubuntu bionic/main amd64 libgtk2.0-0 amd64 2.24.32-1ubuntu1 [1,769 kB]\n",
            "Get:26 http://archive.ubuntu.com/ubuntu bionic/main amd64 libgail18 amd64 2.24.32-1ubuntu1 [14.2 kB]\n",
            "Get:27 http://archive.ubuntu.com/ubuntu bionic/main amd64 libgail-common amd64 2.24.32-1ubuntu1 [112 kB]\n",
            "Get:28 http://archive.ubuntu.com/ubuntu bionic/main amd64 libgtk2.0-bin amd64 2.24.32-1ubuntu1 [7,536 B]\n",
            "Get:29 http://archive.ubuntu.com/ubuntu bionic/multiverse amd64 libnppc9.1 amd64 9.1.85-3ubuntu1 [127 kB]\n",
            "Get:30 http://archive.ubuntu.com/ubuntu bionic/multiverse amd64 libnppial9.1 amd64 9.1.85-3ubuntu1 [3,169 kB]\n",
            "Get:31 http://archive.ubuntu.com/ubuntu bionic/multiverse amd64 libnppicc9.1 amd64 9.1.85-3ubuntu1 [1,376 kB]\n",
            "Get:32 http://archive.ubuntu.com/ubuntu bionic/multiverse amd64 libnppicom9.1 amd64 9.1.85-3ubuntu1 [497 kB]\n",
            "Get:33 http://archive.ubuntu.com/ubuntu bionic/multiverse amd64 libnppidei9.1 amd64 9.1.85-3ubuntu1 [1,673 kB]\n",
            "Get:34 http://archive.ubuntu.com/ubuntu bionic/multiverse amd64 libnppif9.1 amd64 9.1.85-3ubuntu1 [20.9 MB]\n",
            "Get:35 http://archive.ubuntu.com/ubuntu bionic/multiverse amd64 libnppig9.1 amd64 9.1.85-3ubuntu1 [9,960 kB]\n",
            "Get:36 http://archive.ubuntu.com/ubuntu bionic/multiverse amd64 libnppim9.1 amd64 9.1.85-3ubuntu1 [2,295 kB]\n",
            "Get:37 http://archive.ubuntu.com/ubuntu bionic/multiverse amd64 libnppist9.1 amd64 9.1.85-3ubuntu1 [4,910 kB]\n",
            "Get:38 http://archive.ubuntu.com/ubuntu bionic/multiverse amd64 libnppisu9.1 amd64 9.1.85-3ubuntu1 [120 kB]\n",
            "Get:39 http://archive.ubuntu.com/ubuntu bionic/multiverse amd64 libnppitc9.1 amd64 9.1.85-3ubuntu1 [714 kB]\n",
            "Get:40 http://archive.ubuntu.com/ubuntu bionic/multiverse amd64 libnpps9.1 amd64 9.1.85-3ubuntu1 [2,568 kB]\n",
            "Get:41 http://archive.ubuntu.com/ubuntu bionic/multiverse amd64 libnvblas9.1 amd64 9.1.85-3ubuntu1 [132 kB]\n",
            "Get:42 http://archive.ubuntu.com/ubuntu bionic/multiverse amd64 libnvgraph9.1 amd64 9.1.85-3ubuntu1 [6,252 kB]\n",
            "Get:43 http://archive.ubuntu.com/ubuntu bionic/multiverse amd64 libnvrtc9.1 amd64 9.1.85-3ubuntu1 [6,309 kB]\n",
            "Get:44 http://archive.ubuntu.com/ubuntu bionic-updates/universe amd64 openjdk-8-jre-headless amd64 8u342-b07-0ubuntu1~18.04 [28.3 MB]\n",
            "Get:45 http://archive.ubuntu.com/ubuntu bionic-updates/universe amd64 openjdk-8-jre amd64 8u342-b07-0ubuntu1~18.04 [69.6 kB]\n",
            "Get:46 http://archive.ubuntu.com/ubuntu bionic/multiverse amd64 libnvtoolsext1 amd64 9.1.85-3ubuntu1 [31.3 kB]\n",
            "Get:47 http://archive.ubuntu.com/ubuntu bionic/multiverse amd64 libnvvm3 amd64 9.1.85-3ubuntu1 [4,274 kB]\n",
            "Get:48 http://archive.ubuntu.com/ubuntu bionic/multiverse amd64 libthrust-dev all 1.9.1~9.1.85-3ubuntu1 [461 kB]\n",
            "Get:49 http://archive.ubuntu.com/ubuntu bionic/multiverse amd64 nvidia-cuda-dev amd64 9.1.85-3ubuntu1 [263 MB]\n",
            "Get:50 http://archive.ubuntu.com/ubuntu bionic/multiverse amd64 nvidia-cuda-doc all 9.1.85-3ubuntu1 [95.2 MB]\n",
            "Get:51 http://archive.ubuntu.com/ubuntu bionic/multiverse amd64 nvidia-cuda-gdb amd64 9.1.85-3ubuntu1 [2,724 kB]\n",
            "Get:52 http://archive.ubuntu.com/ubuntu bionic/multiverse amd64 nvidia-profiler amd64 9.1.85-3ubuntu1 [2,672 kB]\n",
            "Get:53 http://archive.ubuntu.com/ubuntu bionic/multiverse amd64 nvidia-cuda-toolkit amd64 9.1.85-3ubuntu1 [30.4 MB]\n",
            "Get:54 http://archive.ubuntu.com/ubuntu bionic/multiverse amd64 nvidia-visual-profiler amd64 9.1.85-3ubuntu1 [115 MB]\n",
            "Fetched 830 MB in 1min 7s (12.3 MB/s)\n",
            "Extracting templates from packages: 100%\n",
            "Selecting previously unselected package libxxf86dga1:amd64.\n",
            "(Reading database ... 159685 files and directories currently installed.)\n",
            "Preparing to unpack .../00-libxxf86dga1_2%3a1.1.4-1_amd64.deb ...\n",
            "Unpacking libxxf86dga1:amd64 (2:1.1.4-1) ...\n",
            "Selecting previously unselected package gcc-6-base:amd64.\n",
            "Preparing to unpack .../01-gcc-6-base_6.5.0-2ubuntu1~18.04_amd64.deb ...\n",
            "Unpacking gcc-6-base:amd64 (6.5.0-2ubuntu1~18.04) ...\n",
            "Selecting previously unselected package cpp-6.\n",
            "Preparing to unpack .../02-cpp-6_6.5.0-2ubuntu1~18.04_amd64.deb ...\n",
            "Unpacking cpp-6 (6.5.0-2ubuntu1~18.04) ...\n",
            "Selecting previously unselected package fonts-dejavu-core.\n",
            "Preparing to unpack .../03-fonts-dejavu-core_2.37-1_all.deb ...\n",
            "Unpacking fonts-dejavu-core (2.37-1) ...\n",
            "Selecting previously unselected package fonts-dejavu-extra.\n",
            "Preparing to unpack .../04-fonts-dejavu-extra_2.37-1_all.deb ...\n",
            "Unpacking fonts-dejavu-extra (2.37-1) ...\n",
            "Selecting previously unselected package libasan3:amd64.\n",
            "Preparing to unpack .../05-libasan3_6.5.0-2ubuntu1~18.04_amd64.deb ...\n",
            "Unpacking libasan3:amd64 (6.5.0-2ubuntu1~18.04) ...\n",
            "Selecting previously unselected package libgcc-6-dev:amd64.\n",
            "Preparing to unpack .../06-libgcc-6-dev_6.5.0-2ubuntu1~18.04_amd64.deb ...\n",
            "Unpacking libgcc-6-dev:amd64 (6.5.0-2ubuntu1~18.04) ...\n",
            "Selecting previously unselected package gcc-6.\n",
            "Preparing to unpack .../07-gcc-6_6.5.0-2ubuntu1~18.04_amd64.deb ...\n",
            "Unpacking gcc-6 (6.5.0-2ubuntu1~18.04) ...\n",
            "Selecting previously unselected package libstdc++-6-dev:amd64.\n",
            "Preparing to unpack .../08-libstdc++-6-dev_6.5.0-2ubuntu1~18.04_amd64.deb ...\n",
            "Unpacking libstdc++-6-dev:amd64 (6.5.0-2ubuntu1~18.04) ...\n",
            "Selecting previously unselected package g++-6.\n",
            "Preparing to unpack .../09-g++-6_6.5.0-2ubuntu1~18.04_amd64.deb ...\n",
            "Unpacking g++-6 (6.5.0-2ubuntu1~18.04) ...\n",
            "Selecting previously unselected package libaccinj64-9.1:amd64.\n",
            "Preparing to unpack .../10-libaccinj64-9.1_9.1.85-3ubuntu1_amd64.deb ...\n",
            "Unpacking libaccinj64-9.1:amd64 (9.1.85-3ubuntu1) ...\n",
            "Selecting previously unselected package x11-utils.\n",
            "Preparing to unpack .../11-x11-utils_7.7+3build1_amd64.deb ...\n",
            "Unpacking x11-utils (7.7+3build1) ...\n",
            "Selecting previously unselected package libatk-wrapper-java.\n",
            "Preparing to unpack .../12-libatk-wrapper-java_0.33.3-20ubuntu0.1_all.deb ...\n",
            "Unpacking libatk-wrapper-java (0.33.3-20ubuntu0.1) ...\n",
            "Selecting previously unselected package libatk-wrapper-java-jni:amd64.\n",
            "Preparing to unpack .../13-libatk-wrapper-java-jni_0.33.3-20ubuntu0.1_amd64.deb ...\n",
            "Unpacking libatk-wrapper-java-jni:amd64 (0.33.3-20ubuntu0.1) ...\n",
            "Selecting previously unselected package libcublas9.1:amd64.\n",
            "Preparing to unpack .../14-libcublas9.1_9.1.85-3ubuntu1_amd64.deb ...\n",
            "Unpacking libcublas9.1:amd64 (9.1.85-3ubuntu1) ...\n",
            "Selecting previously unselected package libcudart9.1:amd64.\n",
            "Preparing to unpack .../15-libcudart9.1_9.1.85-3ubuntu1_amd64.deb ...\n",
            "Unpacking libcudart9.1:amd64 (9.1.85-3ubuntu1) ...\n",
            "Selecting previously unselected package libcufft9.1:amd64.\n",
            "Preparing to unpack .../16-libcufft9.1_9.1.85-3ubuntu1_amd64.deb ...\n",
            "Unpacking libcufft9.1:amd64 (9.1.85-3ubuntu1) ...\n",
            "Selecting previously unselected package libcufftw9.1:amd64.\n",
            "Preparing to unpack .../17-libcufftw9.1_9.1.85-3ubuntu1_amd64.deb ...\n",
            "Unpacking libcufftw9.1:amd64 (9.1.85-3ubuntu1) ...\n",
            "Selecting previously unselected package libcuinj64-9.1:amd64.\n",
            "Preparing to unpack .../18-libcuinj64-9.1_9.1.85-3ubuntu1_amd64.deb ...\n",
            "Unpacking libcuinj64-9.1:amd64 (9.1.85-3ubuntu1) ...\n",
            "Selecting previously unselected package libcurand9.1:amd64.\n",
            "Preparing to unpack .../19-libcurand9.1_9.1.85-3ubuntu1_amd64.deb ...\n",
            "Unpacking libcurand9.1:amd64 (9.1.85-3ubuntu1) ...\n",
            "Selecting previously unselected package libcusolver9.1:amd64.\n",
            "Preparing to unpack .../20-libcusolver9.1_9.1.85-3ubuntu1_amd64.deb ...\n",
            "Unpacking libcusolver9.1:amd64 (9.1.85-3ubuntu1) ...\n",
            "Selecting previously unselected package libcusparse9.1:amd64.\n",
            "Preparing to unpack .../21-libcusparse9.1_9.1.85-3ubuntu1_amd64.deb ...\n",
            "Unpacking libcusparse9.1:amd64 (9.1.85-3ubuntu1) ...\n",
            "Selecting previously unselected package libgtk2.0-common.\n",
            "Preparing to unpack .../22-libgtk2.0-common_2.24.32-1ubuntu1_all.deb ...\n",
            "Unpacking libgtk2.0-common (2.24.32-1ubuntu1) ...\n",
            "Selecting previously unselected package libgtk2.0-0:amd64.\n",
            "Preparing to unpack .../23-libgtk2.0-0_2.24.32-1ubuntu1_amd64.deb ...\n",
            "Unpacking libgtk2.0-0:amd64 (2.24.32-1ubuntu1) ...\n",
            "Selecting previously unselected package libgail18:amd64.\n",
            "Preparing to unpack .../24-libgail18_2.24.32-1ubuntu1_amd64.deb ...\n",
            "Unpacking libgail18:amd64 (2.24.32-1ubuntu1) ...\n",
            "Selecting previously unselected package libgail-common:amd64.\n",
            "Preparing to unpack .../25-libgail-common_2.24.32-1ubuntu1_amd64.deb ...\n",
            "Unpacking libgail-common:amd64 (2.24.32-1ubuntu1) ...\n",
            "Selecting previously unselected package libgtk2.0-bin.\n",
            "Preparing to unpack .../26-libgtk2.0-bin_2.24.32-1ubuntu1_amd64.deb ...\n",
            "Unpacking libgtk2.0-bin (2.24.32-1ubuntu1) ...\n",
            "Selecting previously unselected package libnppc9.1:amd64.\n",
            "Preparing to unpack .../27-libnppc9.1_9.1.85-3ubuntu1_amd64.deb ...\n",
            "Unpacking libnppc9.1:amd64 (9.1.85-3ubuntu1) ...\n",
            "Selecting previously unselected package libnppial9.1:amd64.\n",
            "Preparing to unpack .../28-libnppial9.1_9.1.85-3ubuntu1_amd64.deb ...\n",
            "Unpacking libnppial9.1:amd64 (9.1.85-3ubuntu1) ...\n",
            "Selecting previously unselected package libnppicc9.1:amd64.\n",
            "Preparing to unpack .../29-libnppicc9.1_9.1.85-3ubuntu1_amd64.deb ...\n",
            "Unpacking libnppicc9.1:amd64 (9.1.85-3ubuntu1) ...\n",
            "Selecting previously unselected package libnppicom9.1:amd64.\n",
            "Preparing to unpack .../30-libnppicom9.1_9.1.85-3ubuntu1_amd64.deb ...\n",
            "Unpacking libnppicom9.1:amd64 (9.1.85-3ubuntu1) ...\n",
            "Selecting previously unselected package libnppidei9.1:amd64.\n",
            "Preparing to unpack .../31-libnppidei9.1_9.1.85-3ubuntu1_amd64.deb ...\n",
            "Unpacking libnppidei9.1:amd64 (9.1.85-3ubuntu1) ...\n",
            "Selecting previously unselected package libnppif9.1:amd64.\n",
            "Preparing to unpack .../32-libnppif9.1_9.1.85-3ubuntu1_amd64.deb ...\n",
            "Unpacking libnppif9.1:amd64 (9.1.85-3ubuntu1) ...\n",
            "Selecting previously unselected package libnppig9.1:amd64.\n",
            "Preparing to unpack .../33-libnppig9.1_9.1.85-3ubuntu1_amd64.deb ...\n",
            "Unpacking libnppig9.1:amd64 (9.1.85-3ubuntu1) ...\n",
            "Selecting previously unselected package libnppim9.1:amd64.\n",
            "Preparing to unpack .../34-libnppim9.1_9.1.85-3ubuntu1_amd64.deb ...\n",
            "Unpacking libnppim9.1:amd64 (9.1.85-3ubuntu1) ...\n",
            "Selecting previously unselected package libnppist9.1:amd64.\n",
            "Preparing to unpack .../35-libnppist9.1_9.1.85-3ubuntu1_amd64.deb ...\n",
            "Unpacking libnppist9.1:amd64 (9.1.85-3ubuntu1) ...\n",
            "Selecting previously unselected package libnppisu9.1:amd64.\n",
            "Preparing to unpack .../36-libnppisu9.1_9.1.85-3ubuntu1_amd64.deb ...\n",
            "Unpacking libnppisu9.1:amd64 (9.1.85-3ubuntu1) ...\n",
            "Selecting previously unselected package libnppitc9.1:amd64.\n",
            "Preparing to unpack .../37-libnppitc9.1_9.1.85-3ubuntu1_amd64.deb ...\n",
            "Unpacking libnppitc9.1:amd64 (9.1.85-3ubuntu1) ...\n",
            "Selecting previously unselected package libnpps9.1:amd64.\n",
            "Preparing to unpack .../38-libnpps9.1_9.1.85-3ubuntu1_amd64.deb ...\n",
            "Unpacking libnpps9.1:amd64 (9.1.85-3ubuntu1) ...\n",
            "Selecting previously unselected package libnvblas9.1:amd64.\n",
            "Preparing to unpack .../39-libnvblas9.1_9.1.85-3ubuntu1_amd64.deb ...\n",
            "Unpacking libnvblas9.1:amd64 (9.1.85-3ubuntu1) ...\n",
            "Selecting previously unselected package libnvgraph9.1:amd64.\n",
            "Preparing to unpack .../40-libnvgraph9.1_9.1.85-3ubuntu1_amd64.deb ...\n",
            "Unpacking libnvgraph9.1:amd64 (9.1.85-3ubuntu1) ...\n",
            "Selecting previously unselected package libnvrtc9.1:amd64.\n",
            "Preparing to unpack .../41-libnvrtc9.1_9.1.85-3ubuntu1_amd64.deb ...\n",
            "Unpacking libnvrtc9.1:amd64 (9.1.85-3ubuntu1) ...\n",
            "Selecting previously unselected package libvdpau-dev:amd64.\n",
            "Preparing to unpack .../42-libvdpau-dev_1.3-0ubuntu0~gpu18.04.2_amd64.deb ...\n",
            "Unpacking libvdpau-dev:amd64 (1.3-0ubuntu0~gpu18.04.2) ...\n",
            "Selecting previously unselected package openjdk-8-jre-headless:amd64.\n",
            "Preparing to unpack .../43-openjdk-8-jre-headless_8u342-b07-0ubuntu1~18.04_amd64.deb ...\n",
            "Unpacking openjdk-8-jre-headless:amd64 (8u342-b07-0ubuntu1~18.04) ...\n",
            "Selecting previously unselected package openjdk-8-jre:amd64.\n",
            "Preparing to unpack .../44-openjdk-8-jre_8u342-b07-0ubuntu1~18.04_amd64.deb ...\n",
            "Unpacking openjdk-8-jre:amd64 (8u342-b07-0ubuntu1~18.04) ...\n",
            "Selecting previously unselected package libnvtoolsext1:amd64.\n",
            "Preparing to unpack .../45-libnvtoolsext1_9.1.85-3ubuntu1_amd64.deb ...\n",
            "Unpacking libnvtoolsext1:amd64 (9.1.85-3ubuntu1) ...\n",
            "Selecting previously unselected package libnvvm3:amd64.\n",
            "Preparing to unpack .../46-libnvvm3_9.1.85-3ubuntu1_amd64.deb ...\n",
            "Unpacking libnvvm3:amd64 (9.1.85-3ubuntu1) ...\n",
            "Selecting previously unselected package libthrust-dev.\n",
            "Preparing to unpack .../47-libthrust-dev_1.9.1~9.1.85-3ubuntu1_all.deb ...\n",
            "Unpacking libthrust-dev (1.9.1~9.1.85-3ubuntu1) ...\n",
            "Selecting previously unselected package nvidia-cuda-dev.\n",
            "Preparing to unpack .../48-nvidia-cuda-dev_9.1.85-3ubuntu1_amd64.deb ...\n",
            "Unpacking nvidia-cuda-dev (9.1.85-3ubuntu1) ...\n",
            "dpkg: error processing archive /tmp/apt-dpkg-install-NAaGiy/48-nvidia-cuda-dev_9.1.85-3ubuntu1_amd64.deb (--unpack):\n",
            " trying to overwrite '/usr/include/cublas.h', which is also in package libcublas-dev 10.2.1.243-1\n",
            "dpkg-deb: error: paste subprocess was killed by signal (Broken pipe)\n",
            "Selecting previously unselected package nvidia-cuda-doc.\n",
            "Preparing to unpack .../49-nvidia-cuda-doc_9.1.85-3ubuntu1_all.deb ...\n",
            "Unpacking nvidia-cuda-doc (9.1.85-3ubuntu1) ...\n",
            "Selecting previously unselected package nvidia-cuda-gdb.\n",
            "Preparing to unpack .../50-nvidia-cuda-gdb_9.1.85-3ubuntu1_amd64.deb ...\n",
            "Unpacking nvidia-cuda-gdb (9.1.85-3ubuntu1) ...\n",
            "Selecting previously unselected package nvidia-profiler.\n",
            "Preparing to unpack .../51-nvidia-profiler_9.1.85-3ubuntu1_amd64.deb ...\n",
            "Unpacking nvidia-profiler (9.1.85-3ubuntu1) ...\n",
            "Selecting previously unselected package nvidia-cuda-toolkit.\n",
            "Preparing to unpack .../52-nvidia-cuda-toolkit_9.1.85-3ubuntu1_amd64.deb ...\n",
            "Unpacking nvidia-cuda-toolkit (9.1.85-3ubuntu1) ...\n",
            "Selecting previously unselected package nvidia-visual-profiler.\n",
            "Preparing to unpack .../53-nvidia-visual-profiler_9.1.85-3ubuntu1_amd64.deb ...\n",
            "Unpacking nvidia-visual-profiler (9.1.85-3ubuntu1) ...\n",
            "Errors were encountered while processing:\n",
            " /tmp/apt-dpkg-install-NAaGiy/48-nvidia-cuda-dev_9.1.85-3ubuntu1_amd64.deb\n",
            "E: Sub-process /usr/bin/dpkg returned an error code (1)\n"
          ]
        }
      ]
    },
    {
      "cell_type": "code",
      "execution_count": null,
      "metadata": {
        "colab": {
          "base_uri": "https://localhost:8080/"
        },
        "id": "0IXVS1idwA93",
        "outputId": "448510b5-fdbf-4c2d-c894-39b58de803aa"
      },
      "outputs": [
        {
          "output_type": "stream",
          "name": "stdout",
          "text": [
            "nvcc: NVIDIA (R) Cuda compiler driver\n",
            "Copyright (c) 2005-2022 NVIDIA Corporation\n",
            "Built on Wed_Jun__8_16:49:14_PDT_2022\n",
            "Cuda compilation tools, release 11.7, V11.7.99\n",
            "Build cuda_11.7.r11.7/compiler.31442593_0\n"
          ]
        }
      ],
      "source": [
        "!nvcc --version"
      ]
    },
    {
      "cell_type": "code",
      "execution_count": null,
      "metadata": {
        "colab": {
          "base_uri": "https://localhost:8080/"
        },
        "id": "TLrYTngUwnoD",
        "outputId": "b0fc3567-de80-40ed-b8bc-5e9860daa3c5"
      },
      "outputs": [
        {
          "output_type": "stream",
          "name": "stdout",
          "text": [
            "Sat Sep 10 16:25:44 2022       \n",
            "+-----------------------------------------------------------------------------+\n",
            "| NVIDIA-SMI 460.32.03    Driver Version: 460.32.03    CUDA Version: 11.2     |\n",
            "|-------------------------------+----------------------+----------------------+\n",
            "| GPU  Name        Persistence-M| Bus-Id        Disp.A | Volatile Uncorr. ECC |\n",
            "| Fan  Temp  Perf  Pwr:Usage/Cap|         Memory-Usage | GPU-Util  Compute M. |\n",
            "|                               |                      |               MIG M. |\n",
            "|===============================+======================+======================|\n",
            "|   0  Tesla T4            Off  | 00000000:00:04.0 Off |                    0 |\n",
            "| N/A   44C    P8     9W /  70W |      0MiB / 15109MiB |      0%      Default |\n",
            "|                               |                      |                  N/A |\n",
            "+-------------------------------+----------------------+----------------------+\n",
            "                                                                               \n",
            "+-----------------------------------------------------------------------------+\n",
            "| Processes:                                                                  |\n",
            "|  GPU   GI   CI        PID   Type   Process name                  GPU Memory |\n",
            "|        ID   ID                                                   Usage      |\n",
            "|=============================================================================|\n",
            "|  No running processes found                                                 |\n",
            "+-----------------------------------------------------------------------------+\n"
          ]
        }
      ],
      "source": [
        "!nvidia-smi"
      ]
    },
    {
      "cell_type": "code",
      "execution_count": null,
      "metadata": {
        "id": "kxTn_gKAxJme"
      },
      "outputs": [],
      "source": [
        "!export PATH=/usr/local/cuda/bin:$PATH\n",
        "!export LD_LIBRARY_PATH=/usr/local/cuda/lib64:$LD_LIBRARY_PATH"
      ]
    },
    {
      "cell_type": "code",
      "execution_count": null,
      "metadata": {
        "id": "0WEHybuBw5nF"
      },
      "outputs": [],
      "source": [
        "!sudo ldconfig"
      ]
    },
    {
      "cell_type": "code",
      "execution_count": null,
      "metadata": {
        "colab": {
          "base_uri": "https://localhost:8080/"
        },
        "id": "mr0CTp8LnIrV",
        "outputId": "f34daf0b-0438-416d-c02f-e4fbe1211aad"
      },
      "outputs": [
        {
          "output_type": "stream",
          "name": "stderr",
          "text": [
            "/usr/local/lib/python3.7/dist-packages/gluoncv/__init__.py:40: UserWarning: Both `mxnet==1.9.1` and `torch==1.12.1+cu113` are installed. You might encounter increased GPU memory footprint if both framework are used at the same time.\n",
            "  warnings.warn(f'Both `mxnet=={mx.__version__}` and `torch=={torch.__version__}` are installed. '\n"
          ]
        }
      ],
      "source": [
        "from __future__ import division\n",
        "\n",
        "import argparse, time, logging, os, sys, math\n",
        "\n",
        "import numpy as np\n",
        "import mxnet as mx\n",
        "import gluoncv as gcv\n",
        "from mxnet import gluon, nd, init, context\n",
        "from mxnet import autograd as ag\n",
        "from mxnet.gluon import nn\n",
        "from mxnet.gluon.data.vision import transforms\n",
        "\n",
        "from gluoncv.data.transforms import video\n",
        "from gluoncv.data import VideoClsCustom\n",
        "from gluoncv.model_zoo import get_model\n",
        "from gluoncv.utils import makedirs, LRSequential, LRScheduler, split_and_load, TrainingHistory\n",
        "import cv2"
      ]
    },
    {
      "cell_type": "code",
      "execution_count": null,
      "metadata": {
        "id": "__kHQJe-wwWW"
      },
      "outputs": [],
      "source": [
        "with open(\"/content/drive/MyDrive/Annotation_file/train.txt\",\"r\") as f:\n",
        "        text = f.readlines()\n",
        "        text = [x.strip() for x in text ]\n",
        "        for x in text:\n",
        "            action = x.split(\" \")[0].split(\"/\")[-1]\n",
        "            frame = x.split(\" \")[1]\n",
        "            label = x.split(\" \")[-1]\n",
        "            with open(\"./Annotation_train_HAR.txt\",\"a\") as f:\n",
        "                f.write(f\"/content/drive/MyDrive/processed_data/{action}\"+\" \"+frame+\" \"+label + \"\\n\")"
      ]
    },
    {
      "cell_type": "code",
      "source": [
        "k=0\n",
        "path = \"/content/drive/MyDrive/processed_data/\"\n",
        "raw = \"/content/drive/MyDrive/HAR-RAW_DATA/\"\n",
        "labels = {\"clapping_action\":0,\"sit_down_action\":1,\"stand_up_action\":2,\"walking_action\":3}\n",
        "for i in os.listdir(path):\n",
        "    frames=[]\n",
        "    action = i.split(\"_\")\n",
        "    if type(action[0]) == str and type(action[1]) == str and action[2].isalpha() and type(action[2])==str :\n",
        "       action_name = action[0] +\"_\"+ action[1] +\"_\"+ action[2]\n",
        "    else:\n",
        "       action_name = action[0] +\"_\"+ action[1]\n",
        "    for j in os.listdir(path+i):\n",
        "      frames.append(j)\n",
        "    with open(\"./Annotation_train_HAR.txt\",\"a\") as f:\n",
        "         f.write(str(i)+\" \"+str(labels[action_name]) + \"\\n\")"
      ],
      "metadata": {
        "id": "8p4uBMJtgfnB"
      },
      "execution_count": null,
      "outputs": []
    },
    {
      "cell_type": "code",
      "execution_count": null,
      "metadata": {
        "id": "Na3NtLWEov5Y"
      },
      "outputs": [],
      "source": [
        "path = \"/content/drive/MyDrive/processed_data/\"\n",
        "labels = {\"clapping_action\":0,\"sit_down_action\":1,\"stand_up_action\":2,\"walking_action\":3}\n",
        "for i in os.listdir(path):\n",
        "    frames=[]\n",
        "    action = i.split(\"_\")\n",
        "    if type(action[0]) == str and type(action[1]) == str and action[2].isalpha() and type(action[2])==str :\n",
        "       action_name = action[0] +\"_\"+ action[1] +\"_\"+ action[2]\n",
        "    else:\n",
        "       action_name = action[0] +\"_\"+ action[1]\n",
        "    for j in os.listdir(path+i):\n",
        "      frames.append(j)\n",
        "    with open(\"./Annotation_train_HAR.txt\",\"a\") as f:\n",
        "         f.write(f\"/content/drive/MyDrive/HAR-RAW_DATA/\"+action_name+\"/\"+str(i)+\".mp4\"+\" \"+str(len(frames)-1)+\" \"+str(labels[action_name]) + \"\\n\")\n",
        ""
      ]
    },
    {
      "cell_type": "code",
      "source": [
        "!pip install decord --force"
      ],
      "metadata": {
        "colab": {
          "base_uri": "https://localhost:8080/",
          "height": 329
        },
        "id": "XI37XIEYO_wg",
        "outputId": "c40935e0-8a05-4fca-80fb-0165b64eb5b6"
      },
      "execution_count": null,
      "outputs": [
        {
          "output_type": "stream",
          "name": "stdout",
          "text": [
            "Looking in indexes: https://pypi.org/simple, https://us-python.pkg.dev/colab-wheels/public/simple/\n",
            "Collecting decord\n",
            "  Downloading decord-0.6.0-py3-none-manylinux2010_x86_64.whl (13.6 MB)\n",
            "\u001b[K     |████████████████████████████████| 13.6 MB 17.0 MB/s \n",
            "\u001b[?25hCollecting numpy>=1.14.0\n",
            "  Downloading numpy-1.21.6-cp37-cp37m-manylinux_2_12_x86_64.manylinux2010_x86_64.whl (15.7 MB)\n",
            "\u001b[K     |████████████████████████████████| 15.7 MB 59.7 MB/s \n",
            "\u001b[?25hInstalling collected packages: numpy, decord\n",
            "  Attempting uninstall: numpy\n",
            "    Found existing installation: numpy 1.21.6\n",
            "    Uninstalling numpy-1.21.6:\n",
            "      Successfully uninstalled numpy-1.21.6\n",
            "Successfully installed decord-0.6.0 numpy-1.21.6\n"
          ]
        },
        {
          "output_type": "display_data",
          "data": {
            "application/vnd.colab-display-data+json": {
              "pip_warning": {
                "packages": [
                  "numpy"
                ]
              }
            }
          },
          "metadata": {}
        }
      ]
    },
    {
      "cell_type": "code",
      "source": [
        "transform_train = transforms.Compose([\n",
        "    # Fix the input video frames size as 256×340 and randomly sample the cropping width and height from\n",
        "    # {256,224,192,168}. After that, resize the cropped regions to 224 × 224.\n",
        "    video.VideoMultiScaleCrop(size=(256, 340), scale_ratios=[1.0, 0.875, 0.75, 0.66]),\n",
        "    # Randomly flip the video frames horizontally\n",
        "    video.VideoRandomHorizontalFlip(),\n",
        "    # Transpose the video frames from height*width*num_channels to num_channels*height*width\n",
        "    # and map values from [0, 255] to [0,1]\n",
        "    video.VideoToTensor(),\n",
        "    # Normalize the video frames with mean and standard deviation calculated across all images\n",
        "    video.VideoNormalize([0.485, 0.456, 0.406], [0.229, 0.224, 0.225])\n",
        "])"
      ],
      "metadata": {
        "id": "aIxO9TGipmbN"
      },
      "execution_count": null,
      "outputs": []
    },
    {
      "cell_type": "code",
      "execution_count": null,
      "metadata": {
        "colab": {
          "base_uri": "https://localhost:8080/"
        },
        "id": "ULLewZghrA8R",
        "outputId": "df2b3802-42ea-4271-d5f9-41a4b7caeb24"
      },
      "outputs": [
        {
          "output_type": "stream",
          "name": "stdout",
          "text": [
            "Load 395 training samples.\n"
          ]
        }
      ],
      "source": [
        "num_gpus = 1\n",
        "ctx = [mx.gpu(i) for i in range(num_gpus)]\n",
        "#transform_train = video.VideoGroupTrainTransform(size=(224, 224), scale_ratios=[1.0, 0.875], mean=[0.485, 0.456, 0.406], std=[0.229, 0.224, 0.225])\n",
        "per_device_batch_size = 5\n",
        "# Number of data loader workers\n",
        "num_workers = 0\n",
        "transform_train = transforms.Compose([\n",
        "    # Fix the input video frames size as 256×340 and randomly sample the cropping width and height from\n",
        "    # {256,224,192,168}. After that, resize the cropped regions to 224 × 224.\n",
        "    video.VideoMultiScaleCrop(size=(224, 224), scale_ratios=[1.0, 0.875, 0.75, 0.66]),\n",
        "    # Randomly flip the video frames horizontally\n",
        "    video.VideoRandomHorizontalFlip(),\n",
        "    # Transpose the video frames from height*width*num_channels to num_channels*height*width\n",
        "    # and map values from [0, 255] to [0,1]\n",
        "    video.VideoToTensor(),\n",
        "    # Normalize the video frames with mean and standard deviation calculated across all images\n",
        "    video.VideoNormalize([0.485, 0.456, 0.406], [0.229, 0.224, 0.225])\n",
        "])\n",
        "# Calculate effective total batch size\n",
        "batch_size = per_device_batch_size * num_gpus\n",
        "train_dataset = VideoClsCustom(root=os.path.expanduser(\"/content/drive/MyDrive/HAR-RAW_DATA/\" ),\n",
        "                               setting=os.path.expanduser('/content/Annotation_train_HAR.txt'),\n",
        "                               train=True,\n",
        "                               new_length=64,\n",
        "                               slowfast=True,\n",
        "                               video_loader=True,\n",
        "                               use_decord=True,\n",
        "                               slow_temporal_stride=16,\n",
        "                               fast_temporal_stride=2,\n",
        "                               transform=transform_train)\n",
        "print('Load %d training samples.' % len(train_dataset))\n",
        "train_data = gluon.data.DataLoader(train_dataset, batch_size=batch_size,\n",
        "                                   shuffle=True, num_workers=num_workers)"
      ]
    },
    {
      "cell_type": "code",
      "source": [
        "train_dataset = VideoClsCustom(root=os.path.expanduser(\"/content/drive/MyDrive/HAR-RAW_DATA/\" ),\n",
        "                               setting=os.path.expanduser('/content/Annotation_train_HAR.txt'),\n",
        "                               train=True,\n",
        "                               new_length=20,\n",
        "                               video_loader=True,\n",
        "                               use_decord=True,\n",
        "                               slowfast=True,\n",
        "                               slow_temporal_stride=16,\n",
        "                               fast_temporal_stride=2,\n",
        "                               transform=transform_train)"
      ],
      "metadata": {
        "id": "nNgz2TysTKVl"
      },
      "execution_count": null,
      "outputs": []
    },
    {
      "cell_type": "code",
      "source": [
        "num_gpus = 1\n",
        "ctx = [mx.gpu(i) for i in range(num_gpus)]\n",
        "#transform_train = video.VideoGroupTrainTransform(size=(224, 224), scale_ratios=[1.0, 0.875], mean=[0.485, 0.456, 0.406], std=[0.229, 0.224, 0.225])\n",
        "per_device_batch_size = 5\n",
        "# Number of data loader workers\n",
        "num_workers = 0\n",
        "transform_train = transforms.Compose([\n",
        "    # Fix the input video frames size as 256×340 and randomly sample the cropping width and height from\n",
        "    # {256,224,192,168}. After that, resize the cropped regions to 224 × 224.\n",
        "    video.VideoMultiScaleCrop(size=(224, 224), scale_ratios=[1.0, 0.875, 0.75, 0.66]),\n",
        "    # Randomly flip the video frames horizontally\n",
        "    video.VideoRandomHorizontalFlip(),\n",
        "    # Transpose the video frames from height*width*num_channels to num_channels*height*width\n",
        "    # and map values from [0, 255] to [0,1]\n",
        "    video.VideoToTensor(),\n",
        "    # Normalize the video frames with mean and standard deviation calculated across all images\n",
        "    video.VideoNormalize([0.485, 0.456, 0.406], [0.229, 0.224, 0.225])\n",
        "])\n",
        "# Calculate effective total batch size\n",
        "batch_size = per_device_batch_size * num_gpus\n",
        "\n",
        ")\n",
        "print('Load %d training samples.' % len(train_dataset))\n",
        "train_data = gluon.data.DataLoader(train_dataset, batch_size=batch_size,\n",
        "                                   shuffle=True, num_workers=num_workers)"
      ],
      "metadata": {
        "colab": {
          "base_uri": "https://localhost:8080/"
        },
        "id": "oWzGPt8MTG31",
        "outputId": "0190f5cb-1cee-4ad9-f77f-5d9a2969c3bc"
      },
      "execution_count": null,
      "outputs": [
        {
          "output_type": "stream",
          "name": "stdout",
          "text": [
            "Load 395 training samples.\n"
          ]
        }
      ]
    },
    {
      "cell_type": "code",
      "execution_count": null,
      "metadata": {
        "colab": {
          "base_uri": "https://localhost:8080/"
        },
        "id": "QKU_xOKvpSyz",
        "outputId": "e2b53aee-4a99-41c2-b3e6-24a69ec0282c"
      },
      "outputs": [
        {
          "output_type": "stream",
          "name": "stdout",
          "text": [
            "[gpu(0)]\n"
          ]
        }
      ],
      "source": [
        "print(ctx)"
      ]
    },
    {
      "cell_type": "code",
      "execution_count": null,
      "metadata": {
        "id": "v7e1OSHLtMqX"
      },
      "outputs": [],
      "source": [
        "net = get_model(name='slowfast_4x16_resnet50_custom',nclass=4,use_kinetics_pretrain=True,pretrained_base=False,pretrained = False,ctx=mx.gpu())\n",
        "net.collect_params().reset_ctx(mx.gpu())\n",
        "print(net)"
      ]
    },
    {
      "cell_type": "code",
      "source": [
        "!sudo apt-get upgrade --fix-broken"
      ],
      "metadata": {
        "id": "h2vNiDt-Q2Ya"
      },
      "execution_count": null,
      "outputs": []
    },
    {
      "cell_type": "code",
      "source": [
        "lr_decay = 0.1\n",
        "warmup_epoch = 34\n",
        "total_epoch = 196\n",
        "num_batches = len(train_data)\n",
        "lr_scheduler = LRSequential([\n",
        "    LRScheduler('linear', base_lr=0.01, target_lr=0.1,\n",
        "                nepochs=warmup_epoch, iters_per_epoch=num_batches),\n",
        "    LRScheduler('cosine', base_lr=0.1, target_lr=0,\n",
        "                nepochs=total_epoch - warmup_epoch,\n",
        "                iters_per_epoch=num_batches,\n",
        "                step_factor=lr_decay, power=2)\n",
        "])\n",
        "\n",
        "# Stochastic gradient descent\n",
        "optimizer = 'sgd'\n",
        "# Set parameters\n",
        "optimizer_params = {'learning_rate': 0.01, 'wd': 0.0001, 'momentum': 0.9}\n",
        "optimizer_params['lr_scheduler'] = lr_scheduler\n",
        "\n",
        "# Define our trainer for net\n",
        "trainer = gluon.Trainer(net.collect_params(), optimizer, optimizer_params)"
      ],
      "metadata": {
        "id": "v7U9si0oPiZE"
      },
      "execution_count": null,
      "outputs": []
    },
    {
      "cell_type": "code",
      "source": [
        "loss_fn = gluon.loss.SoftmaxCrossEntropyLoss()\n",
        "train_metric = mx.metric.Accuracy()\n",
        "train_history = TrainingHistory(['training-acc'])"
      ],
      "metadata": {
        "id": "NyqhUhkzPmW2"
      },
      "execution_count": null,
      "outputs": []
    },
    {
      "cell_type": "code",
      "source": [
        "epochs = 1\n",
        "\n",
        "for epoch in range(epochs):\n",
        "    tic = time.time()\n",
        "    train_metric.reset()\n",
        "    train_loss = 0\n",
        "\n",
        "    # Loop through each batch of training data\n",
        "    for i, batch in enumerate(train_data):\n",
        "        # Extract data and label\n",
        "        data = split_and_load(batch[0], ctx_list=ctx, batch_axis=0)\n",
        "        label = split_and_load(batch[1], ctx_list=ctx, batch_axis=0)\n",
        "\n",
        "        # AutoGrad\n",
        "        with ag.record():\n",
        "            output = []\n",
        "            for _, X in enumerate(data):\n",
        "                X = X.reshape((-1,) + X.shape[2:])\n",
        "                pred = net(X)\n",
        "                output.append(pred)\n",
        "            loss = [loss_fn(yhat, y) for yhat, y in zip(output, label)]\n",
        "\n",
        "        # Backpropagation\n",
        "        for l in loss:\n",
        "            l.backward()\n",
        "\n",
        "        # Optimize\n",
        "        trainer.step(batch_size)\n",
        "\n",
        "        # Update metrics\n",
        "        train_loss += sum([l.mean().asscalar() for l in loss])\n",
        "        train_metric.update(label, output)\n",
        "\n",
        "    name, acc = train_metric.get()\n",
        "\n",
        "    # Update history and print metrics\n",
        "    train_history.update([acc])\n",
        "    print('[Epoch %d] train=%f loss=%f time: %f' %\n",
        "        (epoch, acc, train_loss / (i+1), time.time()-tic))\n",
        "\n",
        "# We can plot the metric scores with:\n",
        "train_history.plot()"
      ],
      "metadata": {
        "colab": {
          "base_uri": "https://localhost:8080/",
          "height": 286
        },
        "id": "JHTsvuI5Prrr",
        "outputId": "4281cf13-6487-4045-aaba-cac951998aaa"
      },
      "execution_count": null,
      "outputs": [
        {
          "output_type": "stream",
          "name": "stdout",
          "text": [
            "[Epoch 0] train=0.513924 loss=1.159923 time: 278.722597\n"
          ]
        },
        {
          "output_type": "display_data",
          "data": {
            "text/plain": [
              "<Figure size 432x288 with 1 Axes>"
            ],
            "image/png": "[encoded data removed]"
          },
          "metadata": {
            "needs_background": "light"
          }
        }
      ]
    },
    {
      "cell_type": "code",
      "source": [
        "from gluoncv.utils.filesystem import try_import_decord\n",
        "import matplotlib.pyplot as plt\n",
        "import numpy as np\n",
        "import mxnet as mx\n",
        "from mxnet import gluon, nd, image\n",
        "from mxnet.gluon.data.vision import transforms\n",
        "from gluoncv.data.transforms import video\n",
        "from gluoncv import utils\n",
        "from gluoncv.model_zoo import get_model\n",
        "\n",
        "\n",
        "decord = try_import_decord()\n",
        "url = 'https://github.com/bryanyzhu/tiny-ucf101/raw/master/abseiling_k400.mp4'\n",
        "video_fname = utils.download(url)\n",
        "vr = decord.VideoReader(video_fname)\n",
        "fast_frame_id_list = range(0, 64, 2)\n",
        "slow_frame_id_list = range(0, 64, 16)\n",
        "frame_id_list = list(fast_frame_id_list) + list(slow_frame_id_list)\n",
        "video_data = vr.get_batch(frame_id_list).asnumpy()\n",
        "clip_input = [video_data[vid, :, :, :] for vid, _ in enumerate(frame_id_list)]\n",
        "transform_fn = video.VideoGroupValTransform(size=224, mean=[0.485, 0.456, 0.406], std=[0.229, 0.224, 0.225])\n",
        "clip_input = transform_fn(clip_input)\n",
        "clip_input = np.stack(clip_input, axis=0)\n",
        "clip_input = clip_input.reshape((-1,) + (36, 3, 224, 224))\n",
        "clip_input = np.transpose(clip_input, (0, 2, 1, 3, 4))\n",
        "print('Video data is downloaded and preprocessed.')"
      ],
      "metadata": {
        "colab": {
          "base_uri": "https://localhost:8080/"
        },
        "id": "Yp14dc8jg4Lj",
        "outputId": "7aeba78b-edf7-4e8c-cfa5-56dac3a28ab7"
      },
      "execution_count": null,
      "outputs": [
        {
          "output_type": "stream",
          "name": "stdout",
          "text": [
            "Video data is downloaded and preprocessed.\n"
          ]
        }
      ]
    },
    {
      "cell_type": "code",
      "source": [
        "pred = net(nd.array(clip_input))\n",
        "classes = net.classes\n",
        "topK = 5\n",
        "ind = nd.topk(pred, k=topK)[0].astype('int')\n",
        "print('The input video clip is classified to be')\n",
        "for i in range(topK):\n",
        "    print('\\t[%s], with probability %.3f.'%(classes[ind[i].asscalar()], nd.softmax(pred)[0][ind[i]].asscalar()))"
      ],
      "metadata": {
        "id": "aRBha60ChOI5"
      },
      "execution_count": null,
      "outputs": []
    },
    {
      "cell_type": "code",
      "source": [],
      "metadata": {
        "id": "lDJoXBn0hPC2"
      },
      "execution_count": null,
      "outputs": []
    },
    {
      "cell_type": "code",
      "source": [
        "!wget https://dl.fbaipublicfiles.com/pyslowfast/dataset/class_names/kinetics_classnames.json"
      ],
      "metadata": {
        "id": "2DdlRezWuBMX",
        "outputId": "0f03646d-3c41-403c-eeb5-c38d8fb2f289",
        "colab": {
          "base_uri": "https://localhost:8080/"
        }
      },
      "execution_count": null,
      "outputs": [
        {
          "output_type": "stream",
          "name": "stdout",
          "text": [
            "--2022-09-06 16:52:56--  https://dl.fbaipublicfiles.com/pyslowfast/dataset/class_names/kinetics_classnames.json\n",
            "Resolving dl.fbaipublicfiles.com (dl.fbaipublicfiles.com)... 104.22.75.142, 172.67.9.4, 104.22.74.142, ...\n",
            "Connecting to dl.fbaipublicfiles.com (dl.fbaipublicfiles.com)|104.22.75.142|:443... connected.\n",
            "HTTP request sent, awaiting response... 200 OK\n",
            "Length: 10326 (10K) [text/plain]\n",
            "Saving to: ‘kinetics_classnames.json’\n",
            "\n",
            "kinetics_classnames 100%[===================>]  10.08K  --.-KB/s    in 0s      \n",
            "\n",
            "2022-09-06 16:52:57 (72.2 MB/s) - ‘kinetics_classnames.json’ saved [10326/10326]\n",
            "\n"
          ]
        }
      ]
    },
    {
      "cell_type": "code",
      "execution_count": null,
      "metadata": {
        "id": "Ll9s2izDf9YC"
      },
      "outputs": [],
      "source": [
        "params = net.collect_params()\n",
        "for param in params.values():\n",
        "    print(param.name,param.data())"
      ]
    },
    {
      "cell_type": "code",
      "execution_count": null,
      "metadata": {
        "colab": {
          "base_uri": "https://localhost:8080/"
        },
        "id": "GaQsoPpdx1cX",
        "outputId": "1f309ba1-45b4-4e56-a76f-04ee74615da4"
      },
      "outputs": [
        {
          "output_type": "stream",
          "name": "stdout",
          "text": [
            "Downloading /root/.mxnet/models/i3d_resnet50_v1_kinetics400-568a722e.zip from https://apache-mxnet.s3-accelerate.dualstack.amazonaws.com/gluon/models/i3d_resnet50_v1_kinetics400-568a722e.zip...\n"
          ]
        },
        {
          "output_type": "stream",
          "name": "stderr",
          "text": [
            "100%|██████████| 208483/208483 [00:04<00:00, 44377.43KB/s]\n"
          ]
        }
      ],
      "source": [
        "net = get_model(name='i3d_resnet50_v1_custom', use_kinetics_pretrain = True, nclass=4,pretrained_base=False,ctx=mx.gpu())\n",
        "net.load_parameters(\"/content/drive/MyDrive/Slow_fast_param/Har_model-model.params\",ctx=mx.gpu())\n",
        "#net.collect_params().reset_ctx(ctx)"
      ]
    },
    {
      "cell_type": "code",
      "execution_count": null,
      "metadata": {
        "id": "mDaTGd5Vo3EB"
      },
      "outputs": [],
      "source": [
        "file_name = \"/content/drive/MyDrive/Slow_fast_weights/har_action_net_misha_slow_fast.params\"\n",
        "net.save_parameters(file_name,ctx)"
      ]
    },
    {
      "cell_type": "code",
      "execution_count": null,
      "metadata": {
        "id": "1xyN7hiEbhTQ"
      },
      "outputs": [],
      "source": [
        "file_name = \"/content/drive/MyDrive/Slow_fast_weights/har_action_slowfast_net.params\"\n",
        "net.save_parameters(file_name,ctx)"
      ]
    },
    {
      "cell_type": "code",
      "execution_count": null,
      "metadata": {
        "colab": {
          "base_uri": "https://localhost:8080/"
        },
        "id": "Zvdfa2xmPLZk",
        "outputId": "9785b24b-a98a-4155-d45e-0c97012879aa"
      },
      "outputs": [
        {
          "name": "stdout",
          "output_type": "stream",
          "text": [
            "{'conv0_weight': Parameter conv0_weight (shape=(64, 3, 5, 7, 7), dtype=<class 'numpy.float32'>), 'batchnorm0_gamma': Parameter batchnorm0_gamma (shape=(64,), dtype=<class 'numpy.float32'>), 'batchnorm0_beta': Parameter batchnorm0_beta (shape=(64,), dtype=<class 'numpy.float32'>), 'batchnorm0_running_mean': Parameter batchnorm0_running_mean (shape=(64,), dtype=<class 'numpy.float32'>), 'batchnorm0_running_var': Parameter batchnorm0_running_var (shape=(64,), dtype=<class 'numpy.float32'>), 'layer1_0_conv0_weight': Parameter layer1_0_conv0_weight (shape=(64, 64, 3, 1, 1), dtype=<class 'numpy.float32'>), 'layer1_0_batchnorm0_gamma': Parameter layer1_0_batchnorm0_gamma (shape=(64,), dtype=<class 'numpy.float32'>), 'layer1_0_batchnorm0_beta': Parameter layer1_0_batchnorm0_beta (shape=(64,), dtype=<class 'numpy.float32'>), 'layer1_0_batchnorm0_running_mean': Parameter layer1_0_batchnorm0_running_mean (shape=(64,), dtype=<class 'numpy.float32'>), 'layer1_0_batchnorm0_running_var': Parameter layer1_0_batchnorm0_running_var (shape=(64,), dtype=<class 'numpy.float32'>), 'layer1_0_conv1_weight': Parameter layer1_0_conv1_weight (shape=(64, 64, 1, 3, 3), dtype=<class 'numpy.float32'>), 'layer1_0_batchnorm1_gamma': Parameter layer1_0_batchnorm1_gamma (shape=(64,), dtype=<class 'numpy.float32'>), 'layer1_0_batchnorm1_beta': Parameter layer1_0_batchnorm1_beta (shape=(64,), dtype=<class 'numpy.float32'>), 'layer1_0_batchnorm1_running_mean': Parameter layer1_0_batchnorm1_running_mean (shape=(64,), dtype=<class 'numpy.float32'>), 'layer1_0_batchnorm1_running_var': Parameter layer1_0_batchnorm1_running_var (shape=(64,), dtype=<class 'numpy.float32'>), 'layer1_0_conv2_weight': Parameter layer1_0_conv2_weight (shape=(256, 64, 1, 1, 1), dtype=<class 'numpy.float32'>), 'layer1_0_batchnorm2_gamma': Parameter layer1_0_batchnorm2_gamma (shape=(256,), dtype=<class 'numpy.float32'>), 'layer1_0_batchnorm2_beta': Parameter layer1_0_batchnorm2_beta (shape=(256,), dtype=<class 'numpy.float32'>), 'layer1_0_batchnorm2_running_mean': Parameter layer1_0_batchnorm2_running_mean (shape=(256,), dtype=<class 'numpy.float32'>), 'layer1_0_batchnorm2_running_var': Parameter layer1_0_batchnorm2_running_var (shape=(256,), dtype=<class 'numpy.float32'>), 'layer1_downsample_conv0_weight': Parameter layer1_downsample_conv0_weight (shape=(256, 64, 1, 1, 1), dtype=<class 'numpy.float32'>), 'layer1_downsample_batchnorm0_gamma': Parameter layer1_downsample_batchnorm0_gamma (shape=(256,), dtype=<class 'numpy.float32'>), 'layer1_downsample_batchnorm0_beta': Parameter layer1_downsample_batchnorm0_beta (shape=(256,), dtype=<class 'numpy.float32'>), 'layer1_downsample_batchnorm0_running_mean': Parameter layer1_downsample_batchnorm0_running_mean (shape=(256,), dtype=<class 'numpy.float32'>), 'layer1_downsample_batchnorm0_running_var': Parameter layer1_downsample_batchnorm0_running_var (shape=(256,), dtype=<class 'numpy.float32'>), 'layer1_1_conv0_weight': Parameter layer1_1_conv0_weight (shape=(64, 256, 3, 1, 1), dtype=<class 'numpy.float32'>), 'layer1_1_batchnorm0_gamma': Parameter layer1_1_batchnorm0_gamma (shape=(64,), dtype=<class 'numpy.float32'>), 'layer1_1_batchnorm0_beta': Parameter layer1_1_batchnorm0_beta (shape=(64,), dtype=<class 'numpy.float32'>), 'layer1_1_batchnorm0_running_mean': Parameter layer1_1_batchnorm0_running_mean (shape=(64,), dtype=<class 'numpy.float32'>), 'layer1_1_batchnorm0_running_var': Parameter layer1_1_batchnorm0_running_var (shape=(64,), dtype=<class 'numpy.float32'>), 'layer1_1_conv1_weight': Parameter layer1_1_conv1_weight (shape=(64, 64, 1, 3, 3), dtype=<class 'numpy.float32'>), 'layer1_1_batchnorm1_gamma': Parameter layer1_1_batchnorm1_gamma (shape=(64,), dtype=<class 'numpy.float32'>), 'layer1_1_batchnorm1_beta': Parameter layer1_1_batchnorm1_beta (shape=(64,), dtype=<class 'numpy.float32'>), 'layer1_1_batchnorm1_running_mean': Parameter layer1_1_batchnorm1_running_mean (shape=(64,), dtype=<class 'numpy.float32'>), 'layer1_1_batchnorm1_running_var': Parameter layer1_1_batchnorm1_running_var (shape=(64,), dtype=<class 'numpy.float32'>), 'layer1_1_conv2_weight': Parameter layer1_1_conv2_weight (shape=(256, 64, 1, 1, 1), dtype=<class 'numpy.float32'>), 'layer1_1_batchnorm2_gamma': Parameter layer1_1_batchnorm2_gamma (shape=(256,), dtype=<class 'numpy.float32'>), 'layer1_1_batchnorm2_beta': Parameter layer1_1_batchnorm2_beta (shape=(256,), dtype=<class 'numpy.float32'>), 'layer1_1_batchnorm2_running_mean': Parameter layer1_1_batchnorm2_running_mean (shape=(256,), dtype=<class 'numpy.float32'>), 'layer1_1_batchnorm2_running_var': Parameter layer1_1_batchnorm2_running_var (shape=(256,), dtype=<class 'numpy.float32'>), 'layer1_2_conv0_weight': Parameter layer1_2_conv0_weight (shape=(64, 256, 3, 1, 1), dtype=<class 'numpy.float32'>), 'layer1_2_batchnorm0_gamma': Parameter layer1_2_batchnorm0_gamma (shape=(64,), dtype=<class 'numpy.float32'>), 'layer1_2_batchnorm0_beta': Parameter layer1_2_batchnorm0_beta (shape=(64,), dtype=<class 'numpy.float32'>), 'layer1_2_batchnorm0_running_mean': Parameter layer1_2_batchnorm0_running_mean (shape=(64,), dtype=<class 'numpy.float32'>), 'layer1_2_batchnorm0_running_var': Parameter layer1_2_batchnorm0_running_var (shape=(64,), dtype=<class 'numpy.float32'>), 'layer1_2_conv1_weight': Parameter layer1_2_conv1_weight (shape=(64, 64, 1, 3, 3), dtype=<class 'numpy.float32'>), 'layer1_2_batchnorm1_gamma': Parameter layer1_2_batchnorm1_gamma (shape=(64,), dtype=<class 'numpy.float32'>), 'layer1_2_batchnorm1_beta': Parameter layer1_2_batchnorm1_beta (shape=(64,), dtype=<class 'numpy.float32'>), 'layer1_2_batchnorm1_running_mean': Parameter layer1_2_batchnorm1_running_mean (shape=(64,), dtype=<class 'numpy.float32'>), 'layer1_2_batchnorm1_running_var': Parameter layer1_2_batchnorm1_running_var (shape=(64,), dtype=<class 'numpy.float32'>), 'layer1_2_conv2_weight': Parameter layer1_2_conv2_weight (shape=(256, 64, 1, 1, 1), dtype=<class 'numpy.float32'>), 'layer1_2_batchnorm2_gamma': Parameter layer1_2_batchnorm2_gamma (shape=(256,), dtype=<class 'numpy.float32'>), 'layer1_2_batchnorm2_beta': Parameter layer1_2_batchnorm2_beta (shape=(256,), dtype=<class 'numpy.float32'>), 'layer1_2_batchnorm2_running_mean': Parameter layer1_2_batchnorm2_running_mean (shape=(256,), dtype=<class 'numpy.float32'>), 'layer1_2_batchnorm2_running_var': Parameter layer1_2_batchnorm2_running_var (shape=(256,), dtype=<class 'numpy.float32'>), 'layer2_0_conv0_weight': Parameter layer2_0_conv0_weight (shape=(128, 256, 3, 1, 1), dtype=<class 'numpy.float32'>), 'layer2_0_batchnorm0_gamma': Parameter layer2_0_batchnorm0_gamma (shape=(128,), dtype=<class 'numpy.float32'>), 'layer2_0_batchnorm0_beta': Parameter layer2_0_batchnorm0_beta (shape=(128,), dtype=<class 'numpy.float32'>), 'layer2_0_batchnorm0_running_mean': Parameter layer2_0_batchnorm0_running_mean (shape=(128,), dtype=<class 'numpy.float32'>), 'layer2_0_batchnorm0_running_var': Parameter layer2_0_batchnorm0_running_var (shape=(128,), dtype=<class 'numpy.float32'>), 'layer2_0_conv1_weight': Parameter layer2_0_conv1_weight (shape=(128, 128, 1, 3, 3), dtype=<class 'numpy.float32'>), 'layer2_0_batchnorm1_gamma': Parameter layer2_0_batchnorm1_gamma (shape=(128,), dtype=<class 'numpy.float32'>), 'layer2_0_batchnorm1_beta': Parameter layer2_0_batchnorm1_beta (shape=(128,), dtype=<class 'numpy.float32'>), 'layer2_0_batchnorm1_running_mean': Parameter layer2_0_batchnorm1_running_mean (shape=(128,), dtype=<class 'numpy.float32'>), 'layer2_0_batchnorm1_running_var': Parameter layer2_0_batchnorm1_running_var (shape=(128,), dtype=<class 'numpy.float32'>), 'layer2_0_conv2_weight': Parameter layer2_0_conv2_weight (shape=(512, 128, 1, 1, 1), dtype=<class 'numpy.float32'>), 'layer2_0_batchnorm2_gamma': Parameter layer2_0_batchnorm2_gamma (shape=(512,), dtype=<class 'numpy.float32'>), 'layer2_0_batchnorm2_beta': Parameter layer2_0_batchnorm2_beta (shape=(512,), dtype=<class 'numpy.float32'>), 'layer2_0_batchnorm2_running_mean': Parameter layer2_0_batchnorm2_running_mean (shape=(512,), dtype=<class 'numpy.float32'>), 'layer2_0_batchnorm2_running_var': Parameter layer2_0_batchnorm2_running_var (shape=(512,), dtype=<class 'numpy.float32'>), 'layer2_downsample_conv0_weight': Parameter layer2_downsample_conv0_weight (shape=(512, 256, 1, 1, 1), dtype=<class 'numpy.float32'>), 'layer2_downsample_batchnorm0_gamma': Parameter layer2_downsample_batchnorm0_gamma (shape=(512,), dtype=<class 'numpy.float32'>), 'layer2_downsample_batchnorm0_beta': Parameter layer2_downsample_batchnorm0_beta (shape=(512,), dtype=<class 'numpy.float32'>), 'layer2_downsample_batchnorm0_running_mean': Parameter layer2_downsample_batchnorm0_running_mean (shape=(512,), dtype=<class 'numpy.float32'>), 'layer2_downsample_batchnorm0_running_var': Parameter layer2_downsample_batchnorm0_running_var (shape=(512,), dtype=<class 'numpy.float32'>), 'layer2_1_conv0_weight': Parameter layer2_1_conv0_weight (shape=(128, 512, 1, 1, 1), dtype=<class 'numpy.float32'>), 'layer2_1_batchnorm0_gamma': Parameter layer2_1_batchnorm0_gamma (shape=(128,), dtype=<class 'numpy.float32'>), 'layer2_1_batchnorm0_beta': Parameter layer2_1_batchnorm0_beta (shape=(128,), dtype=<class 'numpy.float32'>), 'layer2_1_batchnorm0_running_mean': Parameter layer2_1_batchnorm0_running_mean (shape=(128,), dtype=<class 'numpy.float32'>), 'layer2_1_batchnorm0_running_var': Parameter layer2_1_batchnorm0_running_var (shape=(128,), dtype=<class 'numpy.float32'>), 'layer2_1_conv1_weight': Parameter layer2_1_conv1_weight (shape=(128, 128, 1, 3, 3), dtype=<class 'numpy.float32'>), 'layer2_1_batchnorm1_gamma': Parameter layer2_1_batchnorm1_gamma (shape=(128,), dtype=<class 'numpy.float32'>), 'layer2_1_batchnorm1_beta': Parameter layer2_1_batchnorm1_beta (shape=(128,), dtype=<class 'numpy.float32'>), 'layer2_1_batchnorm1_running_mean': Parameter layer2_1_batchnorm1_running_mean (shape=(128,), dtype=<class 'numpy.float32'>), 'layer2_1_batchnorm1_running_var': Parameter layer2_1_batchnorm1_running_var (shape=(128,), dtype=<class 'numpy.float32'>), 'layer2_1_conv2_weight': Parameter layer2_1_conv2_weight (shape=(512, 128, 1, 1, 1), dtype=<class 'numpy.float32'>), 'layer2_1_batchnorm2_gamma': Parameter layer2_1_batchnorm2_gamma (shape=(512,), dtype=<class 'numpy.float32'>), 'layer2_1_batchnorm2_beta': Parameter layer2_1_batchnorm2_beta (shape=(512,), dtype=<class 'numpy.float32'>), 'layer2_1_batchnorm2_running_mean': Parameter layer2_1_batchnorm2_running_mean (shape=(512,), dtype=<class 'numpy.float32'>), 'layer2_1_batchnorm2_running_var': Parameter layer2_1_batchnorm2_running_var (shape=(512,), dtype=<class 'numpy.float32'>), 'layer2_2_conv0_weight': Parameter layer2_2_conv0_weight (shape=(128, 512, 3, 1, 1), dtype=<class 'numpy.float32'>), 'layer2_2_batchnorm0_gamma': Parameter layer2_2_batchnorm0_gamma (shape=(128,), dtype=<class 'numpy.float32'>), 'layer2_2_batchnorm0_beta': Parameter layer2_2_batchnorm0_beta (shape=(128,), dtype=<class 'numpy.float32'>), 'layer2_2_batchnorm0_running_mean': Parameter layer2_2_batchnorm0_running_mean (shape=(128,), dtype=<class 'numpy.float32'>), 'layer2_2_batchnorm0_running_var': Parameter layer2_2_batchnorm0_running_var (shape=(128,), dtype=<class 'numpy.float32'>), 'layer2_2_conv1_weight': Parameter layer2_2_conv1_weight (shape=(128, 128, 1, 3, 3), dtype=<class 'numpy.float32'>), 'layer2_2_batchnorm1_gamma': Parameter layer2_2_batchnorm1_gamma (shape=(128,), dtype=<class 'numpy.float32'>), 'layer2_2_batchnorm1_beta': Parameter layer2_2_batchnorm1_beta (shape=(128,), dtype=<class 'numpy.float32'>), 'layer2_2_batchnorm1_running_mean': Parameter layer2_2_batchnorm1_running_mean (shape=(128,), dtype=<class 'numpy.float32'>), 'layer2_2_batchnorm1_running_var': Parameter layer2_2_batchnorm1_running_var (shape=(128,), dtype=<class 'numpy.float32'>), 'layer2_2_conv2_weight': Parameter layer2_2_conv2_weight (shape=(512, 128, 1, 1, 1), dtype=<class 'numpy.float32'>), 'layer2_2_batchnorm2_gamma': Parameter layer2_2_batchnorm2_gamma (shape=(512,), dtype=<class 'numpy.float32'>), 'layer2_2_batchnorm2_beta': Parameter layer2_2_batchnorm2_beta (shape=(512,), dtype=<class 'numpy.float32'>), 'layer2_2_batchnorm2_running_mean': Parameter layer2_2_batchnorm2_running_mean (shape=(512,), dtype=<class 'numpy.float32'>), 'layer2_2_batchnorm2_running_var': Parameter layer2_2_batchnorm2_running_var (shape=(512,), dtype=<class 'numpy.float32'>), 'layer2_3_conv0_weight': Parameter layer2_3_conv0_weight (shape=(128, 512, 1, 1, 1), dtype=<class 'numpy.float32'>), 'layer2_3_batchnorm0_gamma': Parameter layer2_3_batchnorm0_gamma (shape=(128,), dtype=<class 'numpy.float32'>), 'layer2_3_batchnorm0_beta': Parameter layer2_3_batchnorm0_beta (shape=(128,), dtype=<class 'numpy.float32'>), 'layer2_3_batchnorm0_running_mean': Parameter layer2_3_batchnorm0_running_mean (shape=(128,), dtype=<class 'numpy.float32'>), 'layer2_3_batchnorm0_running_var': Parameter layer2_3_batchnorm0_running_var (shape=(128,), dtype=<class 'numpy.float32'>), 'layer2_3_conv1_weight': Parameter layer2_3_conv1_weight (shape=(128, 128, 1, 3, 3), dtype=<class 'numpy.float32'>), 'layer2_3_batchnorm1_gamma': Parameter layer2_3_batchnorm1_gamma (shape=(128,), dtype=<class 'numpy.float32'>), 'layer2_3_batchnorm1_beta': Parameter layer2_3_batchnorm1_beta (shape=(128,), dtype=<class 'numpy.float32'>), 'layer2_3_batchnorm1_running_mean': Parameter layer2_3_batchnorm1_running_mean (shape=(128,), dtype=<class 'numpy.float32'>), 'layer2_3_batchnorm1_running_var': Parameter layer2_3_batchnorm1_running_var (shape=(128,), dtype=<class 'numpy.float32'>), 'layer2_3_conv2_weight': Parameter layer2_3_conv2_weight (shape=(512, 128, 1, 1, 1), dtype=<class 'numpy.float32'>), 'layer2_3_batchnorm2_gamma': Parameter layer2_3_batchnorm2_gamma (shape=(512,), dtype=<class 'numpy.float32'>), 'layer2_3_batchnorm2_beta': Parameter layer2_3_batchnorm2_beta (shape=(512,), dtype=<class 'numpy.float32'>), 'layer2_3_batchnorm2_running_mean': Parameter layer2_3_batchnorm2_running_mean (shape=(512,), dtype=<class 'numpy.float32'>), 'layer2_3_batchnorm2_running_var': Parameter layer2_3_batchnorm2_running_var (shape=(512,), dtype=<class 'numpy.float32'>), 'layer3_0_conv0_weight': Parameter layer3_0_conv0_weight (shape=(256, 512, 3, 1, 1), dtype=<class 'numpy.float32'>), 'layer3_0_batchnorm0_gamma': Parameter layer3_0_batchnorm0_gamma (shape=(256,), dtype=<class 'numpy.float32'>), 'layer3_0_batchnorm0_beta': Parameter layer3_0_batchnorm0_beta (shape=(256,), dtype=<class 'numpy.float32'>), 'layer3_0_batchnorm0_running_mean': Parameter layer3_0_batchnorm0_running_mean (shape=(256,), dtype=<class 'numpy.float32'>), 'layer3_0_batchnorm0_running_var': Parameter layer3_0_batchnorm0_running_var (shape=(256,), dtype=<class 'numpy.float32'>), 'layer3_0_conv1_weight': Parameter layer3_0_conv1_weight (shape=(256, 256, 1, 3, 3), dtype=<class 'numpy.float32'>), 'layer3_0_batchnorm1_gamma': Parameter layer3_0_batchnorm1_gamma (shape=(256,), dtype=<class 'numpy.float32'>), 'layer3_0_batchnorm1_beta': Parameter layer3_0_batchnorm1_beta (shape=(256,), dtype=<class 'numpy.float32'>), 'layer3_0_batchnorm1_running_mean': Parameter layer3_0_batchnorm1_running_mean (shape=(256,), dtype=<class 'numpy.float32'>), 'layer3_0_batchnorm1_running_var': Parameter layer3_0_batchnorm1_running_var (shape=(256,), dtype=<class 'numpy.float32'>), 'layer3_0_conv2_weight': Parameter layer3_0_conv2_weight (shape=(1024, 256, 1, 1, 1), dtype=<class 'numpy.float32'>), 'layer3_0_batchnorm2_gamma': Parameter layer3_0_batchnorm2_gamma (shape=(1024,), dtype=<class 'numpy.float32'>), 'layer3_0_batchnorm2_beta': Parameter layer3_0_batchnorm2_beta (shape=(1024,), dtype=<class 'numpy.float32'>), 'layer3_0_batchnorm2_running_mean': Parameter layer3_0_batchnorm2_running_mean (shape=(1024,), dtype=<class 'numpy.float32'>), 'layer3_0_batchnorm2_running_var': Parameter layer3_0_batchnorm2_running_var (shape=(1024,), dtype=<class 'numpy.float32'>), 'layer3_downsample_conv0_weight': Parameter layer3_downsample_conv0_weight (shape=(1024, 512, 1, 1, 1), dtype=<class 'numpy.float32'>), 'layer3_downsample_batchnorm0_gamma': Parameter layer3_downsample_batchnorm0_gamma (shape=(1024,), dtype=<class 'numpy.float32'>), 'layer3_downsample_batchnorm0_beta': Parameter layer3_downsample_batchnorm0_beta (shape=(1024,), dtype=<class 'numpy.float32'>), 'layer3_downsample_batchnorm0_running_mean': Parameter layer3_downsample_batchnorm0_running_mean (shape=(1024,), dtype=<class 'numpy.float32'>), 'layer3_downsample_batchnorm0_running_var': Parameter layer3_downsample_batchnorm0_running_var (shape=(1024,), dtype=<class 'numpy.float32'>), 'layer3_1_conv0_weight': Parameter layer3_1_conv0_weight (shape=(256, 1024, 1, 1, 1), dtype=<class 'numpy.float32'>), 'layer3_1_batchnorm0_gamma': Parameter layer3_1_batchnorm0_gamma (shape=(256,), dtype=<class 'numpy.float32'>), 'layer3_1_batchnorm0_beta': Parameter layer3_1_batchnorm0_beta (shape=(256,), dtype=<class 'numpy.float32'>), 'layer3_1_batchnorm0_running_mean': Parameter layer3_1_batchnorm0_running_mean (shape=(256,), dtype=<class 'numpy.float32'>), 'layer3_1_batchnorm0_running_var': Parameter layer3_1_batchnorm0_running_var (shape=(256,), dtype=<class 'numpy.float32'>), 'layer3_1_conv1_weight': Parameter layer3_1_conv1_weight (shape=(256, 256, 1, 3, 3), dtype=<class 'numpy.float32'>), 'layer3_1_batchnorm1_gamma': Parameter layer3_1_batchnorm1_gamma (shape=(256,), dtype=<class 'numpy.float32'>), 'layer3_1_batchnorm1_beta': Parameter layer3_1_batchnorm1_beta (shape=(256,), dtype=<class 'numpy.float32'>), 'layer3_1_batchnorm1_running_mean': Parameter layer3_1_batchnorm1_running_mean (shape=(256,), dtype=<class 'numpy.float32'>), 'layer3_1_batchnorm1_running_var': Parameter layer3_1_batchnorm1_running_var (shape=(256,), dtype=<class 'numpy.float32'>), 'layer3_1_conv2_weight': Parameter layer3_1_conv2_weight (shape=(1024, 256, 1, 1, 1), dtype=<class 'numpy.float32'>), 'layer3_1_batchnorm2_gamma': Parameter layer3_1_batchnorm2_gamma (shape=(1024,), dtype=<class 'numpy.float32'>), 'layer3_1_batchnorm2_beta': Parameter layer3_1_batchnorm2_beta (shape=(1024,), dtype=<class 'numpy.float32'>), 'layer3_1_batchnorm2_running_mean': Parameter layer3_1_batchnorm2_running_mean (shape=(1024,), dtype=<class 'numpy.float32'>), 'layer3_1_batchnorm2_running_var': Parameter layer3_1_batchnorm2_running_var (shape=(1024,), dtype=<class 'numpy.float32'>), 'layer3_2_conv0_weight': Parameter layer3_2_conv0_weight (shape=(256, 1024, 3, 1, 1), dtype=<class 'numpy.float32'>), 'layer3_2_batchnorm0_gamma': Parameter layer3_2_batchnorm0_gamma (shape=(256,), dtype=<class 'numpy.float32'>), 'layer3_2_batchnorm0_beta': Parameter layer3_2_batchnorm0_beta (shape=(256,), dtype=<class 'numpy.float32'>), 'layer3_2_batchnorm0_running_mean': Parameter layer3_2_batchnorm0_running_mean (shape=(256,), dtype=<class 'numpy.float32'>), 'layer3_2_batchnorm0_running_var': Parameter layer3_2_batchnorm0_running_var (shape=(256,), dtype=<class 'numpy.float32'>), 'layer3_2_conv1_weight': Parameter layer3_2_conv1_weight (shape=(256, 256, 1, 3, 3), dtype=<class 'numpy.float32'>), 'layer3_2_batchnorm1_gamma': Parameter layer3_2_batchnorm1_gamma (shape=(256,), dtype=<class 'numpy.float32'>), 'layer3_2_batchnorm1_beta': Parameter layer3_2_batchnorm1_beta (shape=(256,), dtype=<class 'numpy.float32'>), 'layer3_2_batchnorm1_running_mean': Parameter layer3_2_batchnorm1_running_mean (shape=(256,), dtype=<class 'numpy.float32'>), 'layer3_2_batchnorm1_running_var': Parameter layer3_2_batchnorm1_running_var (shape=(256,), dtype=<class 'numpy.float32'>), 'layer3_2_conv2_weight': Parameter layer3_2_conv2_weight (shape=(1024, 256, 1, 1, 1), dtype=<class 'numpy.float32'>), 'layer3_2_batchnorm2_gamma': Parameter layer3_2_batchnorm2_gamma (shape=(1024,), dtype=<class 'numpy.float32'>), 'layer3_2_batchnorm2_beta': Parameter layer3_2_batchnorm2_beta (shape=(1024,), dtype=<class 'numpy.float32'>), 'layer3_2_batchnorm2_running_mean': Parameter layer3_2_batchnorm2_running_mean (shape=(1024,), dtype=<class 'numpy.float32'>), 'layer3_2_batchnorm2_running_var': Parameter layer3_2_batchnorm2_running_var (shape=(1024,), dtype=<class 'numpy.float32'>), 'layer3_3_conv0_weight': Parameter layer3_3_conv0_weight (shape=(256, 1024, 1, 1, 1), dtype=<class 'numpy.float32'>), 'layer3_3_batchnorm0_gamma': Parameter layer3_3_batchnorm0_gamma (shape=(256,), dtype=<class 'numpy.float32'>), 'layer3_3_batchnorm0_beta': Parameter layer3_3_batchnorm0_beta (shape=(256,), dtype=<class 'numpy.float32'>), 'layer3_3_batchnorm0_running_mean': Parameter layer3_3_batchnorm0_running_mean (shape=(256,), dtype=<class 'numpy.float32'>), 'layer3_3_batchnorm0_running_var': Parameter layer3_3_batchnorm0_running_var (shape=(256,), dtype=<class 'numpy.float32'>), 'layer3_3_conv1_weight': Parameter layer3_3_conv1_weight (shape=(256, 256, 1, 3, 3), dtype=<class 'numpy.float32'>), 'layer3_3_batchnorm1_gamma': Parameter layer3_3_batchnorm1_gamma (shape=(256,), dtype=<class 'numpy.float32'>), 'layer3_3_batchnorm1_beta': Parameter layer3_3_batchnorm1_beta (shape=(256,), dtype=<class 'numpy.float32'>), 'layer3_3_batchnorm1_running_mean': Parameter layer3_3_batchnorm1_running_mean (shape=(256,), dtype=<class 'numpy.float32'>), 'layer3_3_batchnorm1_running_var': Parameter layer3_3_batchnorm1_running_var (shape=(256,), dtype=<class 'numpy.float32'>), 'layer3_3_conv2_weight': Parameter layer3_3_conv2_weight (shape=(1024, 256, 1, 1, 1), dtype=<class 'numpy.float32'>), 'layer3_3_batchnorm2_gamma': Parameter layer3_3_batchnorm2_gamma (shape=(1024,), dtype=<class 'numpy.float32'>), 'layer3_3_batchnorm2_beta': Parameter layer3_3_batchnorm2_beta (shape=(1024,), dtype=<class 'numpy.float32'>), 'layer3_3_batchnorm2_running_mean': Parameter layer3_3_batchnorm2_running_mean (shape=(1024,), dtype=<class 'numpy.float32'>), 'layer3_3_batchnorm2_running_var': Parameter layer3_3_batchnorm2_running_var (shape=(1024,), dtype=<class 'numpy.float32'>), 'layer3_4_conv0_weight': Parameter layer3_4_conv0_weight (shape=(256, 1024, 3, 1, 1), dtype=<class 'numpy.float32'>), 'layer3_4_batchnorm0_gamma': Parameter layer3_4_batchnorm0_gamma (shape=(256,), dtype=<class 'numpy.float32'>), 'layer3_4_batchnorm0_beta': Parameter layer3_4_batchnorm0_beta (shape=(256,), dtype=<class 'numpy.float32'>), 'layer3_4_batchnorm0_running_mean': Parameter layer3_4_batchnorm0_running_mean (shape=(256,), dtype=<class 'numpy.float32'>), 'layer3_4_batchnorm0_running_var': Parameter layer3_4_batchnorm0_running_var (shape=(256,), dtype=<class 'numpy.float32'>), 'layer3_4_conv1_weight': Parameter layer3_4_conv1_weight (shape=(256, 256, 1, 3, 3), dtype=<class 'numpy.float32'>), 'layer3_4_batchnorm1_gamma': Parameter layer3_4_batchnorm1_gamma (shape=(256,), dtype=<class 'numpy.float32'>), 'layer3_4_batchnorm1_beta': Parameter layer3_4_batchnorm1_beta (shape=(256,), dtype=<class 'numpy.float32'>), 'layer3_4_batchnorm1_running_mean': Parameter layer3_4_batchnorm1_running_mean (shape=(256,), dtype=<class 'numpy.float32'>), 'layer3_4_batchnorm1_running_var': Parameter layer3_4_batchnorm1_running_var (shape=(256,), dtype=<class 'numpy.float32'>), 'layer3_4_conv2_weight': Parameter layer3_4_conv2_weight (shape=(1024, 256, 1, 1, 1), dtype=<class 'numpy.float32'>), 'layer3_4_batchnorm2_gamma': Parameter layer3_4_batchnorm2_gamma (shape=(1024,), dtype=<class 'numpy.float32'>), 'layer3_4_batchnorm2_beta': Parameter layer3_4_batchnorm2_beta (shape=(1024,), dtype=<class 'numpy.float32'>), 'layer3_4_batchnorm2_running_mean': Parameter layer3_4_batchnorm2_running_mean (shape=(1024,), dtype=<class 'numpy.float32'>), 'layer3_4_batchnorm2_running_var': Parameter layer3_4_batchnorm2_running_var (shape=(1024,), dtype=<class 'numpy.float32'>), 'layer3_5_conv0_weight': Parameter layer3_5_conv0_weight (shape=(256, 1024, 1, 1, 1), dtype=<class 'numpy.float32'>), 'layer3_5_batchnorm0_gamma': Parameter layer3_5_batchnorm0_gamma (shape=(256,), dtype=<class 'numpy.float32'>), 'layer3_5_batchnorm0_beta': Parameter layer3_5_batchnorm0_beta (shape=(256,), dtype=<class 'numpy.float32'>), 'layer3_5_batchnorm0_running_mean': Parameter layer3_5_batchnorm0_running_mean (shape=(256,), dtype=<class 'numpy.float32'>), 'layer3_5_batchnorm0_running_var': Parameter layer3_5_batchnorm0_running_var (shape=(256,), dtype=<class 'numpy.float32'>), 'layer3_5_conv1_weight': Parameter layer3_5_conv1_weight (shape=(256, 256, 1, 3, 3), dtype=<class 'numpy.float32'>), 'layer3_5_batchnorm1_gamma': Parameter layer3_5_batchnorm1_gamma (shape=(256,), dtype=<class 'numpy.float32'>), 'layer3_5_batchnorm1_beta': Parameter layer3_5_batchnorm1_beta (shape=(256,), dtype=<class 'numpy.float32'>), 'layer3_5_batchnorm1_running_mean': Parameter layer3_5_batchnorm1_running_mean (shape=(256,), dtype=<class 'numpy.float32'>), 'layer3_5_batchnorm1_running_var': Parameter layer3_5_batchnorm1_running_var (shape=(256,), dtype=<class 'numpy.float32'>), 'layer3_5_conv2_weight': Parameter layer3_5_conv2_weight (shape=(1024, 256, 1, 1, 1), dtype=<class 'numpy.float32'>), 'layer3_5_batchnorm2_gamma': Parameter layer3_5_batchnorm2_gamma (shape=(1024,), dtype=<class 'numpy.float32'>), 'layer3_5_batchnorm2_beta': Parameter layer3_5_batchnorm2_beta (shape=(1024,), dtype=<class 'numpy.float32'>), 'layer3_5_batchnorm2_running_mean': Parameter layer3_5_batchnorm2_running_mean (shape=(1024,), dtype=<class 'numpy.float32'>), 'layer3_5_batchnorm2_running_var': Parameter layer3_5_batchnorm2_running_var (shape=(1024,), dtype=<class 'numpy.float32'>), 'layer4_0_conv0_weight': Parameter layer4_0_conv0_weight (shape=(512, 1024, 1, 1, 1), dtype=<class 'numpy.float32'>), 'layer4_0_batchnorm0_gamma': Parameter layer4_0_batchnorm0_gamma (shape=(512,), dtype=<class 'numpy.float32'>), 'layer4_0_batchnorm0_beta': Parameter layer4_0_batchnorm0_beta (shape=(512,), dtype=<class 'numpy.float32'>), 'layer4_0_batchnorm0_running_mean': Parameter layer4_0_batchnorm0_running_mean (shape=(512,), dtype=<class 'numpy.float32'>), 'layer4_0_batchnorm0_running_var': Parameter layer4_0_batchnorm0_running_var (shape=(512,), dtype=<class 'numpy.float32'>), 'layer4_0_conv1_weight': Parameter layer4_0_conv1_weight (shape=(512, 512, 1, 3, 3), dtype=<class 'numpy.float32'>), 'layer4_0_batchnorm1_gamma': Parameter layer4_0_batchnorm1_gamma (shape=(512,), dtype=<class 'numpy.float32'>), 'layer4_0_batchnorm1_beta': Parameter layer4_0_batchnorm1_beta (shape=(512,), dtype=<class 'numpy.float32'>), 'layer4_0_batchnorm1_running_mean': Parameter layer4_0_batchnorm1_running_mean (shape=(512,), dtype=<class 'numpy.float32'>), 'layer4_0_batchnorm1_running_var': Parameter layer4_0_batchnorm1_running_var (shape=(512,), dtype=<class 'numpy.float32'>), 'layer4_0_conv2_weight': Parameter layer4_0_conv2_weight (shape=(2048, 512, 1, 1, 1), dtype=<class 'numpy.float32'>), 'layer4_0_batchnorm2_gamma': Parameter layer4_0_batchnorm2_gamma (shape=(2048,), dtype=<class 'numpy.float32'>), 'layer4_0_batchnorm2_beta': Parameter layer4_0_batchnorm2_beta (shape=(2048,), dtype=<class 'numpy.float32'>), 'layer4_0_batchnorm2_running_mean': Parameter layer4_0_batchnorm2_running_mean (shape=(2048,), dtype=<class 'numpy.float32'>), 'layer4_0_batchnorm2_running_var': Parameter layer4_0_batchnorm2_running_var (shape=(2048,), dtype=<class 'numpy.float32'>), 'layer4_downsample_conv0_weight': Parameter layer4_downsample_conv0_weight (shape=(2048, 1024, 1, 1, 1), dtype=<class 'numpy.float32'>), 'layer4_downsample_batchnorm0_gamma': Parameter layer4_downsample_batchnorm0_gamma (shape=(2048,), dtype=<class 'numpy.float32'>), 'layer4_downsample_batchnorm0_beta': Parameter layer4_downsample_batchnorm0_beta (shape=(2048,), dtype=<class 'numpy.float32'>), 'layer4_downsample_batchnorm0_running_mean': Parameter layer4_downsample_batchnorm0_running_mean (shape=(2048,), dtype=<class 'numpy.float32'>), 'layer4_downsample_batchnorm0_running_var': Parameter layer4_downsample_batchnorm0_running_var (shape=(2048,), dtype=<class 'numpy.float32'>), 'layer4_1_conv0_weight': Parameter layer4_1_conv0_weight (shape=(512, 2048, 3, 1, 1), dtype=<class 'numpy.float32'>), 'layer4_1_batchnorm0_gamma': Parameter layer4_1_batchnorm0_gamma (shape=(512,), dtype=<class 'numpy.float32'>), 'layer4_1_batchnorm0_beta': Parameter layer4_1_batchnorm0_beta (shape=(512,), dtype=<class 'numpy.float32'>), 'layer4_1_batchnorm0_running_mean': Parameter layer4_1_batchnorm0_running_mean (shape=(512,), dtype=<class 'numpy.float32'>), 'layer4_1_batchnorm0_running_var': Parameter layer4_1_batchnorm0_running_var (shape=(512,), dtype=<class 'numpy.float32'>), 'layer4_1_conv1_weight': Parameter layer4_1_conv1_weight (shape=(512, 512, 1, 3, 3), dtype=<class 'numpy.float32'>), 'layer4_1_batchnorm1_gamma': Parameter layer4_1_batchnorm1_gamma (shape=(512,), dtype=<class 'numpy.float32'>), 'layer4_1_batchnorm1_beta': Parameter layer4_1_batchnorm1_beta (shape=(512,), dtype=<class 'numpy.float32'>), 'layer4_1_batchnorm1_running_mean': Parameter layer4_1_batchnorm1_running_mean (shape=(512,), dtype=<class 'numpy.float32'>), 'layer4_1_batchnorm1_running_var': Parameter layer4_1_batchnorm1_running_var (shape=(512,), dtype=<class 'numpy.float32'>), 'layer4_1_conv2_weight': Parameter layer4_1_conv2_weight (shape=(2048, 512, 1, 1, 1), dtype=<class 'numpy.float32'>), 'layer4_1_batchnorm2_gamma': Parameter layer4_1_batchnorm2_gamma (shape=(2048,), dtype=<class 'numpy.float32'>), 'layer4_1_batchnorm2_beta': Parameter layer4_1_batchnorm2_beta (shape=(2048,), dtype=<class 'numpy.float32'>), 'layer4_1_batchnorm2_running_mean': Parameter layer4_1_batchnorm2_running_mean (shape=(2048,), dtype=<class 'numpy.float32'>), 'layer4_1_batchnorm2_running_var': Parameter layer4_1_batchnorm2_running_var (shape=(2048,), dtype=<class 'numpy.float32'>), 'layer4_2_conv0_weight': Parameter layer4_2_conv0_weight (shape=(512, 2048, 1, 1, 1), dtype=<class 'numpy.float32'>), 'layer4_2_batchnorm0_gamma': Parameter layer4_2_batchnorm0_gamma (shape=(512,), dtype=<class 'numpy.float32'>), 'layer4_2_batchnorm0_beta': Parameter layer4_2_batchnorm0_beta (shape=(512,), dtype=<class 'numpy.float32'>), 'layer4_2_batchnorm0_running_mean': Parameter layer4_2_batchnorm0_running_mean (shape=(512,), dtype=<class 'numpy.float32'>), 'layer4_2_batchnorm0_running_var': Parameter layer4_2_batchnorm0_running_var (shape=(512,), dtype=<class 'numpy.float32'>), 'layer4_2_conv1_weight': Parameter layer4_2_conv1_weight (shape=(512, 512, 1, 3, 3), dtype=<class 'numpy.float32'>), 'layer4_2_batchnorm1_gamma': Parameter layer4_2_batchnorm1_gamma (shape=(512,), dtype=<class 'numpy.float32'>), 'layer4_2_batchnorm1_beta': Parameter layer4_2_batchnorm1_beta (shape=(512,), dtype=<class 'numpy.float32'>), 'layer4_2_batchnorm1_running_mean': Parameter layer4_2_batchnorm1_running_mean (shape=(512,), dtype=<class 'numpy.float32'>), 'layer4_2_batchnorm1_running_var': Parameter layer4_2_batchnorm1_running_var (shape=(512,), dtype=<class 'numpy.float32'>), 'layer4_2_conv2_weight': Parameter layer4_2_conv2_weight (shape=(2048, 512, 1, 1, 1), dtype=<class 'numpy.float32'>), 'layer4_2_batchnorm2_gamma': Parameter layer4_2_batchnorm2_gamma (shape=(2048,), dtype=<class 'numpy.float32'>), 'layer4_2_batchnorm2_beta': Parameter layer4_2_batchnorm2_beta (shape=(2048,), dtype=<class 'numpy.float32'>), 'layer4_2_batchnorm2_running_mean': Parameter layer4_2_batchnorm2_running_mean (shape=(2048,), dtype=<class 'numpy.float32'>), 'layer4_2_batchnorm2_running_var': Parameter layer4_2_batchnorm2_running_var (shape=(2048,), dtype=<class 'numpy.float32'>), 'dense0_weight': Parameter dense0_weight (shape=(4, 2048), dtype=float32), 'dense0_bias': Parameter dense0_bias (shape=(4,), dtype=float32)}\n"
          ]
        }
      ],
      "source": [
        "params = dict(net.collect_params())\n",
        "print(params)\n",
        "weight = params[\"conv0_weight\"].data()"
      ]
    },
    {
      "cell_type": "code",
      "execution_count": null,
      "metadata": {
        "colab": {
          "base_uri": "https://localhost:8080/"
        },
        "id": "b2wsEsnTPQ17",
        "outputId": "a34ba461-06a1-4e5d-c0ef-acc3b7484039"
      },
      "outputs": [
        {
          "name": "stdout",
          "output_type": "stream",
          "text": [
            "gpu(0)\n"
          ]
        }
      ],
      "source": [
        "print(params[\"conv0_weight\"].data().context)"
      ]
    },
    {
      "cell_type": "code",
      "execution_count": null,
      "metadata": {
        "id": "qcsyo4eUPXk_"
      },
      "outputs": [],
      "source": [
        "params[\"conv0_weight\"].data(ctx=mx.gpu(0))"
      ]
    },
    {
      "cell_type": "code",
      "execution_count": null,
      "metadata": {
        "id": "gJvPjZrwmhwW"
      },
      "outputs": [],
      "source": [
        "net.save(\"/content/drive/MyDrive/Slow_fast_weights/Har_model\")"
      ]
    },
    {
      "cell_type": "code",
      "source": [
        "!python feat_extract.py --data-list video.txt --model i3d_resnet50_v1_custom --save-dir ./features"
      ],
      "metadata": {
        "colab": {
          "base_uri": "https://localhost:8080/"
        },
        "id": "I-t7EJnPdX0N",
        "outputId": "f196d117-d313-41b9-a394-7cf1ea9d433b"
      },
      "execution_count": null,
      "outputs": [
        {
          "output_type": "stream",
          "name": "stdout",
          "text": [
            "/usr/local/lib/python3.7/dist-packages/gluoncv/__init__.py:40: UserWarning: Both `mxnet==1.9.1` and `torch==1.12.1+cu113` are installed. You might encounter increased GPU memory footprint if both framework are used at the same time.\n",
            "  warnings.warn(f'Both `mxnet=={mx.__version__}` and `torch=={torch.__version__}` are installed. '\n",
            "INFO:logger:Namespace(data_aug='v1', data_dir='', data_list='video.txt', dtype='float32', fast_temporal_stride=2, gpu_id=0, hashtag='', input_size=224, log_interval=10, mode=None, model='i3d_resnet50_v1_custom', need_root=False, new_height=256, new_length=32, new_step=1, new_width=340, num_classes=400, num_crop=1, num_segments=1, resume_params='', save_dir='./features', slow_temporal_stride=16, slowfast=False, ten_crop=False, three_crop=False, use_decord=True, use_pretrained=True, video_loader=True)\n",
            "[08:44:47] ../src/base.cc:79: cuDNN lib mismatch: linked-against version 8005 != compiled-against version 8101.  Set MXNET_CUDNN_LIB_CHECKING=0 to quiet this warning.\n",
            "INFO:logger:Pre-trained model is successfully loaded from the model zoo.\n",
            "INFO:logger:Successfully built model i3d_resnet50_v1_custom\n",
            "INFO:logger:Load 8 video samples.\n",
            "[08:44:52] ../src/operator/nn/./cudnn/./cudnn_algoreg-inl.h:96: Running performance tests to find the best convolution algorithm, this can take a while... (set the environment variable MXNET_CUDNN_AUTOTUNE_DEFAULT to 0 to disable)\n",
            "INFO:logger:Total feature extraction time is 0.29 minutes\n"
          ]
        }
      ]
    },
    {
      "cell_type": "code",
      "source": [
        "!python inference.py --data-list video.txt --model \"slowfast_4x16_resnet50_custom\" --save-logits --save-preds"
      ],
      "metadata": {
        "colab": {
          "base_uri": "https://localhost:8080/"
        },
        "id": "UHmmJIR9iRCN",
        "outputId": "51008907-28a6-4e84-92fe-47f49b390685"
      },
      "execution_count": null,
      "outputs": [
        {
          "output_type": "stream",
          "name": "stdout",
          "text": [
            "/usr/local/lib/python3.7/dist-packages/gluoncv/__init__.py:40: UserWarning: Both `mxnet==1.9.1` and `torch==1.12.1+cu113` are installed. You might encounter increased GPU memory footprint if both framework are used at the same time.\n",
            "  warnings.warn(f'Both `mxnet=={mx.__version__}` and `torch=={torch.__version__}` are installed. '\n",
            "Namespace(data_aug='v1', data_dir='', data_list='video.txt', dtype='float32', fast_temporal_stride=2, gpu_id=0, hashtag='', input_size=224, log_interval=10, logging_file='predictions.log', mode=None, model='slowfast_4x16_resnet50_custom', need_root=False, new_height=256, new_length=64, new_step=1, new_width=340, num_classes=400, num_crop=1, num_segments=1, resume_params='', save_dir='./predictions', save_logits=True, save_preds=True, slow_temporal_stride=16, slowfast=True, ten_crop=False, three_crop=False, use_decord=True, use_pretrained=True, video_loader=True)\n",
            "[18:43:00] ../src/base.cc:79: cuDNN lib mismatch: linked-against version 8005 != compiled-against version 8101.  Set MXNET_CUDNN_LIB_CHECKING=0 to quiet this warning.\n",
            "Pre-trained model is successfully loaded from the model zoo.\n",
            "Successfully built model slowfast_4x16_resnet50_custom\n",
            "Load 8 video samples.\n",
            "[18:43:09] ../src/operator/nn/./cudnn/./cudnn_algoreg-inl.h:96: Running performance tests to find the best convolution algorithm, this can take a while... (set the environment variable MXNET_CUDNN_AUTOTUNE_DEFAULT to 0 to disable)\n",
            "[18:43:12] ../src/operator/nn/./cudnn/./cudnn_algoreg-inl.h:96: Running performance tests to find the best convolution algorithm, this can take a while... (set the environment variable MXNET_CUDNN_AUTOTUNE_DEFAULT to 0 to disable)\n",
            "0000/0008: clapping_action_94.mp4 is predicted to class 0\n",
            "0001/0008: clapping_action_91.mp4 is predicted to class 0\n",
            "0002/0008: stand_up_action_60.mp4 is predicted to class 1\n",
            "0003/0008: stand_up_action_61.mp4 is predicted to class 1\n",
            "0004/0008: sit_down_action_61.mp4 is predicted to class 1\n",
            "0005/0008: sit_down_action_63.mp4 is predicted to class 1\n",
            "0006/0008: walking_action_87.mp4 is predicted to class 2\n",
            "0007/0008: walking_action_103.mp4 is predicted to class 1\n",
            "Total inference time is 0.20 minutes\n"
          ]
        }
      ]
    },
    {
      "cell_type": "code",
      "source": [
        "labels = {\"clapping_action\":0,\"sit_down_action\":1,\"stand_up_action\":2,\"walking_action\":3}"
      ],
      "metadata": {
        "id": "3mM4MexUjH9U"
      },
      "execution_count": null,
      "outputs": []
    },
    {
      "cell_type": "code",
      "source": [
        "pip install decord --user"
      ],
      "metadata": {
        "id": "Umhbs-Q0f0KK"
      },
      "execution_count": null,
      "outputs": []
    },
    {
      "cell_type": "code",
      "execution_count": null,
      "metadata": {
        "id": "lcX4lXahspyY"
      },
      "outputs": [],
      "source": [
        "import os\n",
        "import sys\n",
        "import time\n",
        "import argparse\n",
        "import logging\n",
        "import math\n",
        "import gc\n",
        "import json\n",
        "\n",
        "import numpy as np\n",
        "import mxnet as mx\n",
        "from mxnet import nd\n",
        "from mxnet.gluon.data.vision import transforms\n",
        "from gluoncv.data.transforms import video\n",
        "from gluoncv.model_zoo import get_model\n",
        "from gluoncv.data import VideoClsCustom\n",
        "from gluoncv.utils.filesystem import try_import_decord\n",
        "\n",
        "def parse_args():\n",
        "    parser = argparse.ArgumentParser(description='Extract features from pre-trained models for video related tasks.')\n",
        "    parser.add_argument('--data-dir', type=str, default='',\n",
        "                        help='the root path to your data')\n",
        "    parser.add_argument('--need-root', action='store_true',\n",
        "                        help='if set to True, --data-dir needs to be provided as the root path to find your videos.')\n",
        "    parser.add_argument('--data-list', type=str, default='',\n",
        "                        help='the list of your data. You can either provide complete path or relative path.')\n",
        "    parser.add_argument('--dtype', type=str, default='float32',\n",
        "                        help='data type for training. default is float32')\n",
        "    parser.add_argument('--gpu-id', type=int, default=0,\n",
        "                        help='number of gpus to use. Use -1 for CPU')\n",
        "    parser.add_argument('--mode', type=str,\n",
        "                        help='mode in which to train the model. options are symbolic, imperative, hybrid')\n",
        "    parser.add_argument('--model', type=str, required=True,\n",
        "                        help='type of model to use. see vision_model for options.')\n",
        "    parser.add_argument('--input-size', type=int, default=224,\n",
        "                        help='size of the input image size. default is 224')\n",
        "    parser.add_argument('--use-pretrained', action='store_true', default=True,\n",
        "                        help='enable using pretrained model from GluonCV.')\n",
        "    parser.add_argument('--hashtag', type=str, default='',\n",
        "                        help='hashtag for pretrained models.')\n",
        "    parser.add_argument('--resume-params', type=str, default='',\n",
        "                        help='path of parameters to load from.')\n",
        "    parser.add_argument('--log-interval', type=int, default=10,\n",
        "                        help='Number of batches to wait before logging.')\n",
        "    parser.add_argument('--new-height', type=int, default=256,\n",
        "                        help='new height of the resize image. default is 256')\n",
        "    parser.add_argument('--new-width', type=int, default=340,\n",
        "                        help='new width of the resize image. default is 340')\n",
        "    parser.add_argument('--new-length', type=int, default=32,\n",
        "                        help='new length of video sequence. default is 32')\n",
        "    parser.add_argument('--new-step', type=int, default=1,\n",
        "                        help='new step to skip video sequence. default is 1')\n",
        "    parser.add_argument('--num-classes', type=int, default=400,\n",
        "                        help='number of classes.')\n",
        "    parser.add_argument('--ten-crop', action='store_true',\n",
        "                        help='whether to use ten crop evaluation.')\n",
        "    parser.add_argument('--three-crop', action='store_true',\n",
        "                        help='whether to use three crop evaluation.')\n",
        "    parser.add_argument('--video-loader', action='store_true', default=True,\n",
        "                        help='if set to True, read videos directly instead of reading frames.')\n",
        "    parser.add_argument('--use-decord', action='store_true', default=True,\n",
        "                        help='if set to True, use Decord video loader to load data.')\n",
        "    parser.add_argument('--slowfast', action='store_true',\n",
        "                        help='if set to True, use data loader designed for SlowFast network.')\n",
        "    parser.add_argument('--slow-temporal-stride', type=int, default=16,\n",
        "                        help='the temporal stride for sparse sampling of video frames for slow branch in SlowFast network.')\n",
        "    parser.add_argument('--fast-temporal-stride', type=int, default=2,\n",
        "                        help='the temporal stride for sparse sampling of video frames for fast branch in SlowFast network.')\n",
        "    parser.add_argument('--num-crop', type=int, default=1,\n",
        "                        help='number of crops for each image. default is 1')\n",
        "    parser.add_argument('--data-aug', type=str, default='v1',\n",
        "                        help='different types of data augmentation pipelines. Supports v1, v2, v3 and v4.')\n",
        "    parser.add_argument('--num-segments', type=int, default=1,\n",
        "                        help='number of segments to evenly split the video.')\n",
        "    parser.add_argument('--save-dir', type=str, default='./',\n",
        "                        help='directory of saved results')\n",
        "    opt = parser.parse_args()\n",
        "    return opt"
      ]
    },
    {
      "cell_type": "code",
      "execution_count": null,
      "metadata": {
        "id": "Z0jBULkGr3ES"
      },
      "outputs": [],
      "source": [
        "def read_data(opt, video_name, transform, video_utils):\n",
        "\n",
        "    decord = try_import_decord()\n",
        "    decord_vr = decord.VideoReader(video_name, width=opt.new_width, height=opt.new_height)\n",
        "    duration = len(decord_vr)\n",
        "\n",
        "    opt.skip_length = opt.new_length * opt.new_step\n",
        "    segment_indices, skip_offsets = video_utils._sample_test_indices(duration)\n",
        "\n",
        "    if opt.video_loader:\n",
        "        if opt.slowfast:\n",
        "            clip_input = video_utils._video_TSN_decord_slowfast_loader(video_name, decord_vr, duration, segment_indices, skip_offsets)\n",
        "        else:\n",
        "            clip_input = video_utils._video_TSN_decord_batch_loader(video_name, decord_vr, duration, segment_indices, skip_offsets)\n",
        "    else:\n",
        "        raise RuntimeError('We only support video-based inference.')\n",
        "\n",
        "    clip_input = transform(clip_input)\n",
        "\n",
        "    if opt.slowfast:\n",
        "        sparse_sampels = len(clip_input) // (opt.num_segments * opt.num_crop)\n",
        "        clip_input = np.stack(clip_input, axis=0)\n",
        "        clip_input = clip_input.reshape((-1,) + (sparse_sampels, 3, opt.input_size, opt.input_size))\n",
        "        clip_input = np.transpose(clip_input, (0, 2, 1, 3, 4))\n",
        "    else:\n",
        "        clip_input = np.stack(clip_input, axis=0)\n",
        "        clip_input = clip_input.reshape((-1,) + (opt.new_length, 3, opt.input_size, opt.input_size))\n",
        "        clip_input = np.transpose(clip_input, (0, 2, 1, 3, 4))\n",
        "\n",
        "    if opt.new_length == 1:\n",
        "        clip_input = np.squeeze(clip_input, axis=2)    # this is for 2D input case\n",
        "\n",
        "    return nd.array(clip_input)\n",
        "\n",
        "def main(logger):\n",
        "    opt = parse_args()\n",
        "    logger.info(opt)\n",
        "    gc.set_threshold(100, 5, 5)\n",
        "\n",
        "    if not os.path.exists(opt.save_dir):\n",
        "        os.makedirs(opt.save_dir)\n",
        "\n",
        "    # set env\n",
        "    if opt.gpu_id == -1:\n",
        "        context = mx.cpu()\n",
        "    else:\n",
        "        gpu_id = opt.gpu_id\n",
        "        context = mx.gpu(gpu_id)\n",
        "\n",
        "    # get data preprocess\n",
        "    image_norm_mean = [0.485, 0.456, 0.406]\n",
        "    image_norm_std = [0.229, 0.224, 0.225]\n",
        "    if opt.ten_crop:\n",
        "        transform_test = transforms.Compose([\n",
        "            video.VideoTenCrop(opt.input_size),\n",
        "            video.VideoToTensor(),\n",
        "            video.VideoNormalize(image_norm_mean, image_norm_std)\n",
        "        ])\n",
        "        opt.num_crop = 10\n",
        "    elif opt.three_crop:\n",
        "        transform_test = transforms.Compose([\n",
        "            video.VideoThreeCrop(opt.input_size),\n",
        "            video.VideoToTensor(),\n",
        "            video.VideoNormalize(image_norm_mean, image_norm_std)\n",
        "        ])\n",
        "        opt.num_crop = 3\n",
        "    else:\n",
        "        transform_test = video.VideoGroupValTransform(size=opt.input_size, mean=image_norm_mean, std=image_norm_std)\n",
        "        opt.num_crop = 1\n",
        "\n",
        "    # get model\n",
        "    if opt.use_pretrained and len(opt.hashtag) > 0:\n",
        "        opt.use_pretrained = opt.hashtag\n",
        "    classes = opt.num_classes\n",
        "    model_name = opt.model\n",
        "    net = get_model(name=model_name, nclass=classes, pretrained=opt.use_pretrained,\n",
        "                    feat_ext=True, num_segments=opt.num_segments, num_crop=opt.num_crop)\n",
        "    net.cast(opt.dtype)\n",
        "    net.collect_params().reset_ctx(context)\n",
        "    if opt.mode == 'hybrid':\n",
        "        net.hybridize(static_alloc=True, static_shape=True)\n",
        "    if opt.resume_params != '' and not opt.use_pretrained:\n",
        "        net.load_parameters(opt.resume_params, ctx=context)\n",
        "        logger.info('Pre-trained model %s is successfully loaded.' % (opt.resume_params))\n",
        "    else:\n",
        "        logger.info('Pre-trained model is successfully loaded from the model zoo.')\n",
        "    logger.info(\"Successfully built model {}\".format(model_name))\n",
        "\n",
        "    # get data\n",
        "    anno_file = opt.data_list\n",
        "    f = open(anno_file, 'r')\n",
        "    data_list = f.readlines()\n",
        "    logger.info('Load %d video samples.' % len(data_list))\n",
        "\n",
        "    # build a pseudo dataset instance to use its children class methods\n",
        "    video_utils = VideoClsCustom(root=opt.data_dir,\n",
        "                                 setting=opt.data_list,\n",
        "                                 num_segments=opt.num_segments,\n",
        "                                 num_crop=opt.num_crop,\n",
        "                                 new_length=opt.new_length,\n",
        "                                 new_step=opt.new_step,\n",
        "                                 new_width=opt.new_width,\n",
        "                                 new_height=opt.new_height,\n",
        "                                 video_loader=opt.video_loader,\n",
        "                                 use_decord=opt.use_decord,\n",
        "                                 slowfast=opt.slowfast,\n",
        "                                 slow_temporal_stride=opt.slow_temporal_stride,\n",
        "                                 fast_temporal_stride=opt.fast_temporal_stride,\n",
        "                                 data_aug=opt.data_aug,\n",
        "                                 lazy_init=True)\n",
        "\n",
        "    start_time = time.time()\n",
        "    for vid, vline in enumerate(data_list):\n",
        "        video_path = vline.split()[0]\n",
        "        video_name = video_path.split('/')[-1]\n",
        "        if opt.need_root:\n",
        "            video_path = os.path.join(opt.data_dir, video_path)\n",
        "        video_data = read_data(opt, video_path, transform_test, video_utils)\n",
        "        video_input = video_data.as_in_context(context)\n",
        "        video_feat = net(video_input.astype(opt.dtype, copy=False))\n",
        "\n",
        "        feat_file = '%s_%s_feat.npy' % (model_name, video_name)\n",
        "        np.save(os.path.join(opt.save_dir, feat_file), video_feat.asnumpy())\n",
        "\n",
        "        if vid > 0 and vid % opt.log_interval == 0:\n",
        "            logger.info('%04d/%04d is done' % (vid, len(data_list)))\n",
        "\n",
        "    end_time = time.time()\n",
        "    logger.info('Total feature extraction time is %4.2f minutes' % ((end_time - start_time) / 60))\n",
        "\n",
        "if __name__ == '__main__':\n",
        "    logging.basicConfig()\n",
        "    logger = logging.getLogger('logger')\n",
        "    logger.setLevel(logging.INFO)\n",
        "\n",
        "    main(logger)"
      ]
    }
  ],
  "metadata": {
    "accelerator": "GPU",
    "colab": {
      "provenance": []
    },
    "gpuClass": "standard",
    "kernelspec": {
      "display_name": "Python 3",
      "name": "python3"
    },
    "language_info": {
      "name": "python"
    }
  },
  "nbformat": 4,
  "nbformat_minor": 0
}